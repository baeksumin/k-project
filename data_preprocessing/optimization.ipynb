{
  "nbformat": 4,
  "nbformat_minor": 0,
  "metadata": {
    "colab": {
      "name": "optimization.ipynb",
      "provenance": [],
      "collapsed_sections": [],
      "include_colab_link": true
    },
    "kernelspec": {
      "name": "python3",
      "display_name": "Python 3"
    },
    "language_info": {
      "name": "python"
    }
  },
  "cells": [
    {
      "cell_type": "markdown",
      "metadata": {
        "id": "view-in-github",
        "colab_type": "text"
      },
      "source": [
        "<a href=\"https://colab.research.google.com/github/baeksumin/k-project/blob/main/data_preprocessing/optimization.ipynb\" target=\"_parent\"><img src=\"https://colab.research.google.com/assets/colab-badge.svg\" alt=\"Open In Colab\"/></a>"
      ]
    },
    {
      "cell_type": "code",
      "metadata": {
        "colab": {
          "base_uri": "https://localhost:8080/"
        },
        "id": "AwRgIzP5NoiZ",
        "outputId": "25af07c3-37ff-4692-a049-57be2c697daf"
      },
      "source": [
        "!pip install backtrader"
      ],
      "execution_count": null,
      "outputs": [
        {
          "output_type": "stream",
          "name": "stdout",
          "text": [
            "Collecting backtrader\n",
            "  Downloading backtrader-1.9.76.123-py2.py3-none-any.whl (410 kB)\n",
            "\u001b[?25l\r\u001b[K     |▉                               | 10 kB 23.5 MB/s eta 0:00:01\r\u001b[K     |█▋                              | 20 kB 12.2 MB/s eta 0:00:01\r\u001b[K     |██▍                             | 30 kB 9.5 MB/s eta 0:00:01\r\u001b[K     |███▏                            | 40 kB 8.0 MB/s eta 0:00:01\r\u001b[K     |████                            | 51 kB 5.1 MB/s eta 0:00:01\r\u001b[K     |████▉                           | 61 kB 5.3 MB/s eta 0:00:01\r\u001b[K     |█████▋                          | 71 kB 5.4 MB/s eta 0:00:01\r\u001b[K     |██████▍                         | 81 kB 6.0 MB/s eta 0:00:01\r\u001b[K     |███████▏                        | 92 kB 4.8 MB/s eta 0:00:01\r\u001b[K     |████████                        | 102 kB 5.3 MB/s eta 0:00:01\r\u001b[K     |████████▉                       | 112 kB 5.3 MB/s eta 0:00:01\r\u001b[K     |█████████▋                      | 122 kB 5.3 MB/s eta 0:00:01\r\u001b[K     |██████████▍                     | 133 kB 5.3 MB/s eta 0:00:01\r\u001b[K     |███████████▏                    | 143 kB 5.3 MB/s eta 0:00:01\r\u001b[K     |████████████                    | 153 kB 5.3 MB/s eta 0:00:01\r\u001b[K     |████████████▉                   | 163 kB 5.3 MB/s eta 0:00:01\r\u001b[K     |█████████████▋                  | 174 kB 5.3 MB/s eta 0:00:01\r\u001b[K     |██████████████▍                 | 184 kB 5.3 MB/s eta 0:00:01\r\u001b[K     |███████████████▏                | 194 kB 5.3 MB/s eta 0:00:01\r\u001b[K     |████████████████                | 204 kB 5.3 MB/s eta 0:00:01\r\u001b[K     |████████████████▉               | 215 kB 5.3 MB/s eta 0:00:01\r\u001b[K     |█████████████████▋              | 225 kB 5.3 MB/s eta 0:00:01\r\u001b[K     |██████████████████▍             | 235 kB 5.3 MB/s eta 0:00:01\r\u001b[K     |███████████████████▏            | 245 kB 5.3 MB/s eta 0:00:01\r\u001b[K     |████████████████████            | 256 kB 5.3 MB/s eta 0:00:01\r\u001b[K     |████████████████████▊           | 266 kB 5.3 MB/s eta 0:00:01\r\u001b[K     |█████████████████████▋          | 276 kB 5.3 MB/s eta 0:00:01\r\u001b[K     |██████████████████████▍         | 286 kB 5.3 MB/s eta 0:00:01\r\u001b[K     |███████████████████████▏        | 296 kB 5.3 MB/s eta 0:00:01\r\u001b[K     |████████████████████████        | 307 kB 5.3 MB/s eta 0:00:01\r\u001b[K     |████████████████████████▊       | 317 kB 5.3 MB/s eta 0:00:01\r\u001b[K     |█████████████████████████▋      | 327 kB 5.3 MB/s eta 0:00:01\r\u001b[K     |██████████████████████████▍     | 337 kB 5.3 MB/s eta 0:00:01\r\u001b[K     |███████████████████████████▏    | 348 kB 5.3 MB/s eta 0:00:01\r\u001b[K     |████████████████████████████    | 358 kB 5.3 MB/s eta 0:00:01\r\u001b[K     |████████████████████████████▊   | 368 kB 5.3 MB/s eta 0:00:01\r\u001b[K     |█████████████████████████████▋  | 378 kB 5.3 MB/s eta 0:00:01\r\u001b[K     |██████████████████████████████▍ | 389 kB 5.3 MB/s eta 0:00:01\r\u001b[K     |███████████████████████████████▏| 399 kB 5.3 MB/s eta 0:00:01\r\u001b[K     |████████████████████████████████| 409 kB 5.3 MB/s eta 0:00:01\r\u001b[K     |████████████████████████████████| 410 kB 5.3 MB/s \n",
            "\u001b[?25hInstalling collected packages: backtrader\n",
            "Successfully installed backtrader-1.9.76.123\n"
          ]
        }
      ]
    },
    {
      "cell_type": "code",
      "metadata": {
        "colab": {
          "base_uri": "https://localhost:8080/"
        },
        "id": "DJTXPc3Alj65",
        "outputId": "e268ab26-9779-49df-8c28-05db16372ae0"
      },
      "source": [
        "!pip install backtesting"
      ],
      "execution_count": null,
      "outputs": [
        {
          "output_type": "stream",
          "name": "stdout",
          "text": [
            "Collecting backtesting\n",
            "  Downloading Backtesting-0.3.3.tar.gz (175 kB)\n",
            "\u001b[?25l\r\u001b[K     |█▉                              | 10 kB 21.3 MB/s eta 0:00:01\r\u001b[K     |███▊                            | 20 kB 16.3 MB/s eta 0:00:01\r\u001b[K     |█████▋                          | 30 kB 11.0 MB/s eta 0:00:01\r\u001b[K     |███████▌                        | 40 kB 9.4 MB/s eta 0:00:01\r\u001b[K     |█████████▍                      | 51 kB 4.8 MB/s eta 0:00:01\r\u001b[K     |███████████▏                    | 61 kB 5.6 MB/s eta 0:00:01\r\u001b[K     |█████████████                   | 71 kB 5.6 MB/s eta 0:00:01\r\u001b[K     |███████████████                 | 81 kB 6.2 MB/s eta 0:00:01\r\u001b[K     |████████████████▉               | 92 kB 6.2 MB/s eta 0:00:01\r\u001b[K     |██████████████████▊             | 102 kB 5.3 MB/s eta 0:00:01\r\u001b[K     |████████████████████▌           | 112 kB 5.3 MB/s eta 0:00:01\r\u001b[K     |██████████████████████▍         | 122 kB 5.3 MB/s eta 0:00:01\r\u001b[K     |████████████████████████▎       | 133 kB 5.3 MB/s eta 0:00:01\r\u001b[K     |██████████████████████████▏     | 143 kB 5.3 MB/s eta 0:00:01\r\u001b[K     |████████████████████████████    | 153 kB 5.3 MB/s eta 0:00:01\r\u001b[K     |█████████████████████████████▉  | 163 kB 5.3 MB/s eta 0:00:01\r\u001b[K     |███████████████████████████████▊| 174 kB 5.3 MB/s eta 0:00:01\r\u001b[K     |████████████████████████████████| 175 kB 5.3 MB/s \n",
            "\u001b[?25hRequirement already satisfied: numpy>=1.17.0 in /usr/local/lib/python3.7/dist-packages (from backtesting) (1.19.5)\n",
            "Requirement already satisfied: pandas!=0.25.0,>=0.25.0 in /usr/local/lib/python3.7/dist-packages (from backtesting) (1.1.5)\n",
            "Requirement already satisfied: bokeh>=1.4.0 in /usr/local/lib/python3.7/dist-packages (from backtesting) (2.3.3)\n",
            "Requirement already satisfied: Jinja2>=2.9 in /usr/local/lib/python3.7/dist-packages (from bokeh>=1.4.0->backtesting) (2.11.3)\n",
            "Requirement already satisfied: packaging>=16.8 in /usr/local/lib/python3.7/dist-packages (from bokeh>=1.4.0->backtesting) (21.3)\n",
            "Requirement already satisfied: typing-extensions>=3.7.4 in /usr/local/lib/python3.7/dist-packages (from bokeh>=1.4.0->backtesting) (3.10.0.2)\n",
            "Requirement already satisfied: tornado>=5.1 in /usr/local/lib/python3.7/dist-packages (from bokeh>=1.4.0->backtesting) (5.1.1)\n",
            "Requirement already satisfied: PyYAML>=3.10 in /usr/local/lib/python3.7/dist-packages (from bokeh>=1.4.0->backtesting) (3.13)\n",
            "Requirement already satisfied: pillow>=7.1.0 in /usr/local/lib/python3.7/dist-packages (from bokeh>=1.4.0->backtesting) (7.1.2)\n",
            "Requirement already satisfied: python-dateutil>=2.1 in /usr/local/lib/python3.7/dist-packages (from bokeh>=1.4.0->backtesting) (2.8.2)\n",
            "Requirement already satisfied: MarkupSafe>=0.23 in /usr/local/lib/python3.7/dist-packages (from Jinja2>=2.9->bokeh>=1.4.0->backtesting) (2.0.1)\n",
            "Requirement already satisfied: pyparsing!=3.0.5,>=2.0.2 in /usr/local/lib/python3.7/dist-packages (from packaging>=16.8->bokeh>=1.4.0->backtesting) (3.0.6)\n",
            "Requirement already satisfied: pytz>=2017.2 in /usr/local/lib/python3.7/dist-packages (from pandas!=0.25.0,>=0.25.0->backtesting) (2018.9)\n",
            "Requirement already satisfied: six>=1.5 in /usr/local/lib/python3.7/dist-packages (from python-dateutil>=2.1->bokeh>=1.4.0->backtesting) (1.15.0)\n",
            "Building wheels for collected packages: backtesting\n",
            "  Building wheel for backtesting (setup.py) ... \u001b[?25l\u001b[?25hdone\n",
            "  Created wheel for backtesting: filename=Backtesting-0.3.3-py3-none-any.whl size=173823 sha256=e661c34dacde5aade645b9a29cacd57b163d2be5e9db87061d606eec045f3ab4\n",
            "  Stored in directory: /root/.cache/pip/wheels/48/1d/ea/65dacebc37da7655d8a1fd0f315ac39d102e31d6545237a1c6\n",
            "Successfully built backtesting\n",
            "Installing collected packages: backtesting\n",
            "Successfully installed backtesting-0.3.3\n"
          ]
        }
      ]
    },
    {
      "cell_type": "code",
      "metadata": {
        "colab": {
          "base_uri": "https://localhost:8080/"
        },
        "id": "GKsaERNSJ2ey",
        "outputId": "e84986c6-a5f6-4e53-a2a2-15c763308700"
      },
      "source": [
        "!pip install deap"
      ],
      "execution_count": null,
      "outputs": [
        {
          "output_type": "stream",
          "name": "stdout",
          "text": [
            "Collecting deap\n",
            "  Downloading deap-1.3.1-cp37-cp37m-manylinux_2_5_x86_64.manylinux1_x86_64.manylinux_2_12_x86_64.manylinux2010_x86_64.whl (160 kB)\n",
            "\u001b[?25l\r\u001b[K     |██                              | 10 kB 16.3 MB/s eta 0:00:01\r\u001b[K     |████                            | 20 kB 9.6 MB/s eta 0:00:01\r\u001b[K     |██████                          | 30 kB 5.8 MB/s eta 0:00:01\r\u001b[K     |████████▏                       | 40 kB 5.3 MB/s eta 0:00:01\r\u001b[K     |██████████▏                     | 51 kB 4.8 MB/s eta 0:00:01\r\u001b[K     |████████████▏                   | 61 kB 4.9 MB/s eta 0:00:01\r\u001b[K     |██████████████▎                 | 71 kB 4.9 MB/s eta 0:00:01\r\u001b[K     |████████████████▎               | 81 kB 5.4 MB/s eta 0:00:01\r\u001b[K     |██████████████████▎             | 92 kB 5.4 MB/s eta 0:00:01\r\u001b[K     |████████████████████▍           | 102 kB 5.0 MB/s eta 0:00:01\r\u001b[K     |██████████████████████▍         | 112 kB 5.0 MB/s eta 0:00:01\r\u001b[K     |████████████████████████▍       | 122 kB 5.0 MB/s eta 0:00:01\r\u001b[K     |██████████████████████████▌     | 133 kB 5.0 MB/s eta 0:00:01\r\u001b[K     |████████████████████████████▌   | 143 kB 5.0 MB/s eta 0:00:01\r\u001b[K     |██████████████████████████████▌ | 153 kB 5.0 MB/s eta 0:00:01\r\u001b[K     |████████████████████████████████| 160 kB 5.0 MB/s \n",
            "\u001b[?25hRequirement already satisfied: numpy in /usr/local/lib/python3.7/dist-packages (from deap) (1.19.5)\n",
            "Installing collected packages: deap\n",
            "Successfully installed deap-1.3.1\n"
          ]
        }
      ]
    },
    {
      "cell_type": "code",
      "source": [
        "#talib 설치\n",
        "!wget -q http://prdownloads.sourceforge.net/ta-lib/ta-lib-0.4.0-src.tar.gz 2>&1 > /dev/null\n",
        "!tar xvzf ta-lib-0.4.0-src.tar.gz 2>&1 > /dev/null\n",
        "\n",
        "import os\n",
        "\n",
        "os.chdir('ta-lib')  \n",
        "\n",
        "!./configure --prefix=/usr 2>&1 > /dev/null\n",
        "!make 2>&1 > /dev/null\n",
        "!make install 2>&1 > /dev/null\n",
        "\n",
        "os.chdir('../')\n",
        "\n",
        "!pip install TA-Lib 2>&1 > /dev/null"
      ],
      "metadata": {
        "colab": {
          "base_uri": "https://localhost:8080/"
        },
        "id": "h99VB0_fydhG",
        "outputId": "df542f00-cfd3-4e64-f4cf-479e89c4e364"
      },
      "execution_count": null,
      "outputs": [
        {
          "output_type": "stream",
          "name": "stdout",
          "text": [
            "./configure: line 4354: /usr/bin/file: No such file or directory\n",
            "libtool: link: warning: `-version-info/-version-number' is ignored for convenience libraries\n",
            "ar: `u' modifier ignored since `D' is the default (see `U')\n",
            "libtool: link: warning: `-version-info/-version-number' is ignored for convenience libraries\n",
            "ar: `u' modifier ignored since `D' is the default (see `U')\n",
            "libtool: link: warning: `-version-info/-version-number' is ignored for convenience libraries\n",
            "ar: `u' modifier ignored since `D' is the default (see `U')\n",
            "libtool: link: warning: `-version-info/-version-number' is ignored for convenience libraries\n",
            "ar: `u' modifier ignored since `D' is the default (see `U')\n",
            "ar: `u' modifier ignored since `D' is the default (see `U')\n",
            "\u001b[01m\u001b[Kgen_code.c:\u001b[m\u001b[K In function ‘\u001b[01m\u001b[KprintFuncHeaderDoc\u001b[m\u001b[K’:\n",
            "\u001b[01m\u001b[Kgen_code.c:3456:4:\u001b[m\u001b[K \u001b[01;35m\u001b[Kwarning: \u001b[m\u001b[Kformat not a string literal and no format arguments [\u001b[01;35m\u001b[K-Wformat-security\u001b[m\u001b[K]\n",
            "    \u001b[01;35m\u001b[Kfprintf\u001b[m\u001b[K( out, prefix );\n",
            "    \u001b[01;35m\u001b[K^~~~~~~\u001b[m\u001b[K\n"
          ]
        }
      ]
    },
    {
      "cell_type": "code",
      "metadata": {
        "id": "hLPspbq2E05H",
        "colab": {
          "base_uri": "https://localhost:8080/"
        },
        "outputId": "76b479f7-41d1-4341-edf9-7992e26bc319"
      },
      "source": [
        "import re\n",
        "import sys\n",
        "import json\n",
        "import time\n",
        "import talib\n",
        "import pickle\n",
        "import random\n",
        "import logging\n",
        "import os.path\n",
        "import numpy as np\n",
        "import pandas as pd\n",
        "import seaborn as sns\n",
        "from tqdm import trange\n",
        "import backtrader as bt\n",
        "from google.colab import drive\n",
        "import matplotlib.pyplot as plt\n",
        "from backtesting import Strategy\n",
        "from backtesting import Backtest\n",
        "import backtrader.feeds as btfeeds\n",
        "from IPython.display import display, Image\n",
        "from datetime import datetime, date, timedelta\n",
        "from deap import base, creator, tools, algorithms\n",
        "\n",
        "pd.options.mode.chained_assignment = None  # default='warn'"
      ],
      "execution_count": null,
      "outputs": [
        {
          "output_type": "stream",
          "name": "stderr",
          "text": [
            "/usr/local/lib/python3.7/dist-packages/backtesting/_plotting.py:50: UserWarning: Jupyter Notebook detected. Setting Bokeh output to notebook. This may not work in Jupyter clients without JavaScript support (e.g. PyCharm, Spyder IDE). Reset with `backtesting.set_bokeh_output(notebook=False)`.\n",
            "  warnings.warn('Jupyter Notebook detected. '\n"
          ]
        }
      ]
    },
    {
      "cell_type": "code",
      "metadata": {
        "colab": {
          "base_uri": "https://localhost:8080/"
        },
        "id": "swbgtar7FN54",
        "outputId": "71fd2717-98f4-49db-d4fb-c2e0b0ddf921"
      },
      "source": [
        "drive.mount('/content/drive')\n",
        "data_path = '/content/drive/MyDrive/[Shared]K-Project/data/'"
      ],
      "execution_count": null,
      "outputs": [
        {
          "output_type": "stream",
          "name": "stdout",
          "text": [
            "Mounted at /content/drive\n"
          ]
        }
      ]
    },
    {
      "cell_type": "code",
      "metadata": {
        "colab": {
          "base_uri": "https://localhost:8080/"
        },
        "id": "i_uIi9Dp256N",
        "outputId": "0bcbf65f-ed6f-44b5-b97b-04036481a12a"
      },
      "source": [
        "# # Load pickle - fullcode 목록\n",
        "# with open(data_path + 'full_code.pkl',\"rb\") as f: \n",
        "#     fullcode = pickle.load(f)\n",
        "    \n",
        "# # 상장폐지 상태 제외시키기\n",
        "# fullcode_filter = fullcode[fullcode['status'] != '상장폐지']\n",
        "\n",
        "# # fullcode열을 list로 변경\n",
        "# fullcode_list = list(fullcode_filter['full_code'])\n",
        "# fullcode_list0 = fullcode_list[:1]\n",
        "# # fullcode_list0 = fullcode_list[260:520]\n",
        "# # fullcode_list0 = fullcode_list[520:780]\n",
        "# # fullcode_list0 = fullcode_list[780:1040]\n",
        "# # fullcode_list0 = fullcode_list[1040:1300]\n",
        "# # fullcode_list0 = fullcode_list[1300:1560]\n",
        "# # fullcode_list0 = fullcode_list[1560:1820]\n",
        "# # fullcode_list0 = fullcode_list[1820:2080]\n",
        "# # fullcode_list0 = fullcode_list[2080:2340]\n",
        "# # fullcode_list0 = fullcode_list[2340:]\n",
        "# print(len(fullcode_list0))"
      ],
      "execution_count": null,
      "outputs": [
        {
          "output_type": "stream",
          "name": "stdout",
          "text": [
            "1\n"
          ]
        }
      ]
    },
    {
      "cell_type": "code",
      "source": [
        "mktcap_code = ['KR7060310000', 'KR7095570008', 'KR7006840003', 'KR7054620000', 'KR7265520007', 'KR7211270004', 'KR7027410000', 'KR7282330000', 'KR7138930003', 'KR7001460005']\n",
        "fullcode_list0 = mktcap_code.copy()\n",
        "print(fullcode_list0)"
      ],
      "metadata": {
        "colab": {
          "base_uri": "https://localhost:8080/"
        },
        "id": "2RLEcPmrUiiV",
        "outputId": "694d20ef-ebbe-45b2-95ba-497cfa43e8d0"
      },
      "execution_count": null,
      "outputs": [
        {
          "output_type": "stream",
          "name": "stdout",
          "text": [
            "['KR7060310000', 'KR7095570008', 'KR7006840003', 'KR7054620000', 'KR7265520007', 'KR7211270004', 'KR7027410000', 'KR7282330000', 'KR7138930003', 'KR7001460005']\n"
          ]
        }
      ]
    },
    {
      "cell_type": "code",
      "metadata": {
        "id": "QstDkFwz0K8O"
      },
      "source": [
        "with open(data_path + 'initial_data1.json',\"r\") as json_file:\n",
        "    json_data = json.load(json_file) "
      ],
      "execution_count": null,
      "outputs": []
    },
    {
      "cell_type": "code",
      "source": [
        "# 전략\n",
        "\n",
        "class SmaCross1(bt.Strategy):\n",
        "  params = dict(\n",
        "    pfast=50, # period for the fast moving average\n",
        "    pslow=200 # period for the slow moving average \n",
        "    ) \n",
        "  \n",
        "  def __init__(self):\n",
        "    sma1 = bt.ind.SMA(period = self.p.pfast) # fast moving average \n",
        "    sma2 = bt.ind.SMA(period = self.p.pslow) # slow moving average \n",
        "    self.crossover = bt.ind.CrossOver(sma1, sma2) # crossover signal \n",
        "\n",
        "  def next(self): \n",
        "    if not self.position: # not in the market \n",
        "      if self.crossover > 0: # if fast crosses slow to the upside \n",
        "        close = self.data.close[0] # 종가 값 \n",
        "          \n",
        "        size = int(self.broker.getcash() / close) # 최대 구매 가능 개수 \n",
        "        self.buy(size=size) # 매수 size = 구매 개수 설정 \n",
        "    elif self.crossover < 0: # in the market & cross to the downside \n",
        "        self.close() # 매도\n",
        "\n",
        "class RSI(bt.Strategy):\n",
        "  params = dict(period=26)\n",
        "\n",
        "  def __init__(self):\n",
        "    self.rsi = bt.indicators.RSI(self.data.close, period=self.p.period)\n",
        "\n",
        "  def next(self):    \n",
        "    if not self.position:  #아직 주식을 사지 않았다면\n",
        "\n",
        "      if self.rsi <30 :\n",
        "        self.order = self.buy()\n",
        "\n",
        "    elif self. rsi >70 :\n",
        "      self.order = self.sell()\n",
        "\n",
        "class ROC(bt.Strategy):\n",
        "  params = dict(period=14)\n",
        "\n",
        "  def __init__(self):\n",
        "    self.roc = bt.indicators.ROC(self.data.close, period=self.p.period)\n",
        "\n",
        "  def next(self):    \n",
        "    if not self.position:  #아직 주식을 사지 않았다면\n",
        "\n",
        "      if self.roc > 0:\n",
        "        self.order = self.buy()\n",
        "\n",
        "    elif self.roc < 0:\n",
        "      self.order = self.sell()\n",
        "\n",
        "class MAP(bt.Strategy):\n",
        "  params = dict(period = 12, upperLimit = .07, lowerLimit = .07)\n",
        "\n",
        "  def __init__(self):\n",
        "    # self.sma = bt.ind.SMA(self.data.close, period = self.p.period) # fast moving average \n",
        "    self.sma = bt.ind.SMA(period = self.p.period)\n",
        "    self.ul = self.sma + (self.p.upperLimit * self.sma)\n",
        "    self.ll = self.sma + (self.p.lowerLimit * self.sma)\n",
        "\n",
        "  def next(self): \n",
        "    if not self.position: # 아직 주식을 사지 않았다면\n",
        "      if self.sma <= self.ll:\n",
        "        close = self.data.close[0] # 종가 값             \n",
        "        size = int(self.broker.getcash() / close) # 최대 구매 가능 개수 \n",
        "        self.buy(size=size) # 매수 size = 구매 개수 설정 \n",
        "\n",
        "    elif self.sma > self.ul:\n",
        "        self.sell() # 매도lf.sell() # 매도\n",
        "\n",
        "class StochasticSR(bt.Strategy):\n",
        "    '''Trading strategy that utilizes the Stochastic Oscillator indicator for oversold/overbought entry points, \n",
        "    and previous support/resistance via Donchian Channels as well as a max loss in pips for risk levels.'''\n",
        "    # parameters for Stochastic Oscillator and max loss in pips\n",
        "    # Donchian Channels to determine previous support/resistance levels will use the given period as well\n",
        "    # http://www.ta-guru.com/Book/TechnicalAnalysis/TechnicalIndicators/Stochastic.php5 for Stochastic Oscillator formula and description\n",
        "    params = (('period', 14), ('pfast', 3), ('pslow', 3), ('upperLimit', 80), ('lowerLimit', 20), ('stop_pips', .002))\n",
        "\n",
        "    def __init__(self):\n",
        "        '''Initializes logger and variables required for the strategy implementation.'''\n",
        "        # initialize logger for log function (set to critical to prevent any unwanted autologs, not using log objects because only care about logging one thing)\n",
        "        for handler in logging.root.handlers[:]:\n",
        "            logging.root.removeHandler(handler)\n",
        "\n",
        "        logging.basicConfig(format='%(message)s', level=logging.CRITICAL, handlers=[\n",
        "            logging.FileHandler(\"LOG.log\"),\n",
        "            logging.StreamHandler()\n",
        "            ])\n",
        "\n",
        "        self.order = None\n",
        "        self.donchian_stop_price = None\n",
        "        self.price = None\n",
        "        self.stop_price = None\n",
        "        self.stop_donchian = None\n",
        "\n",
        "        self.stochastic = bt.indicators.Stochastic(self.data, period=self.params.period, period_dfast=self.params.pfast, period_dslow=self.params.pslow, \n",
        "        upperband=self.params.upperLimit, lowerband=self.params.lowerLimit)\n",
        "\n",
        "\n",
        "    def next(self):\n",
        "        '''Checks to see if Stochastic Oscillator, position, and order conditions meet the entry or exit conditions for the execution of buy and sell orders.'''\n",
        "        if self.order:\n",
        "            # if there is a pending order, don't do anything\n",
        "            return\n",
        "        if self.position.size == 0:\n",
        "            # When stochastic crosses back below 80, enter short position.\n",
        "            if self.stochastic.lines.percD[-1] >= 80 and self.stochastic.lines.percD[0] <= 80:\n",
        "                # stop price at last support level in self.params.period periods\n",
        "                self.donchian_stop_price = max(self.data.high.get(size=self.params.period))\n",
        "                self.order = self.sell()\n",
        "                # stop loss order for max loss of self.params.stop_pips pips\n",
        "                self.stop_price = self.buy(exectype=bt.Order.Stop, price=self.data.close[0]+self.params.stop_pips, oco=self.stop_donchian)\n",
        "                # stop loss order for donchian SR price level\n",
        "                self.stop_donchian = self.buy(exectype=bt.Order.Stop, price=self.donchian_stop_price, oco=self.stop_price)\n",
        "            # when stochastic crosses back above 20, enter long position.\n",
        "            elif self.stochastic.lines.percD[-1] <= 20 and self.stochastic.lines.percD[0] >= 20:\n",
        "                # stop price at last resistance level in self.params.period periods\n",
        "                self.donchian_stop_price = min(self.data.low.get(size=self.params.period))\n",
        "                self.order = self.buy()\n",
        "                # stop loss order for max loss of self.params.stop_pips pips\n",
        "                self.stop_price = self.sell(exectype=bt.Order.Stop, price=self.data.close[0]-self.params.stop_pips, oco=self.stop_donchian)\n",
        "                # stop loss order for donchian SR price level\n",
        "                self.stop_donchian = self.sell(exectype=bt.Order.Stop, price=self.donchian_stop_price, oco=self.stop_price) \n",
        "  \n",
        "        if self.position.size > 0:\n",
        "            # When stochastic is above 70, close out of long position\n",
        "            if (self.stochastic.lines.percD[0] >= 70):\n",
        "                self.close(oco=self.stop_price)\n",
        "        if self.position.size < 0:\n",
        "            # When stochastic is below 30, close out of short position\n",
        "            if (self.stochastic.lines.percD[0] <= 30):\n",
        "                self.close(oco=self.stop_price)"
      ],
      "metadata": {
        "id": "SehDcY_5orDS"
      },
      "execution_count": null,
      "outputs": []
    },
    {
      "cell_type": "code",
      "metadata": {
        "colab": {
          "base_uri": "https://localhost:8080/"
        },
        "id": "ogL3SqyM2BEP",
        "outputId": "1093c242-4680-4216-e72f-b0185070a838"
      },
      "source": [
        "result_dict = {}\n",
        "\n",
        "for j in range(len(fullcode_list0)): \n",
        "\n",
        "  print(j)\n",
        "  print(fullcode_list0[j])\n",
        "  \n",
        "  # backtest 데이터 가공\n",
        "\n",
        "  df = pd.read_json(json_data[fullcode_list0[j]], orient ='index') # 첫번째 키값으로 데이터프레임 변환\n",
        "  df = df.transpose()\n",
        "\n",
        "  #시간순 재정렬\n",
        "  df = df.sort_values(by=['TRD_DD'])\n",
        "  df.reset_index(drop=True,inplace=True)\n",
        "  df['TRD_DD'] = pd.to_datetime(df['TRD_DD']) #datetime변환\n",
        "\n",
        "  #인풋 데이터 모양 맞춰주기(backtest에 들어갈 데이터 모양)\n",
        "  df_bt = df[['TRD_DD','TDD_OPNPRC','TDD_HGPRC','TDD_LWPRC','TDD_CLSPRC', 'ACC_TRDVOL']]\n",
        "  df_bt['TRD_DD'] = pd.to_datetime(df_bt['TRD_DD'])\n",
        "  df_bt.rename(columns={'TRD_DD':'Date', 'TDD_OPNPRC':'Open', 'TDD_HGPRC':'High','TDD_LWPRC':'Low','TDD_CLSPRC':'Close', 'ACC_TRDVOL':'Volume'}, inplace=True)\n",
        "  df_bt.set_index('Date',drop=True,inplace=True)\n",
        "\n",
        "  \n",
        "  def backtest_data(data_bt):\n",
        "    check_dtype = data_bt.dtype == 'object'\n",
        "    if (check_dtype):   \n",
        "      return data_bt.str.replace(',','').astype('float')\n",
        "    else :\n",
        "      return data_bt.astype('float')        \n",
        "          \n",
        "\n",
        "  #데이터프레임 콤마(,) 제거 그리고 타입 소수로 변환\n",
        "  df_bt['Open'] = backtest_data(df_bt['Open'])\n",
        "  df_bt['High'] = backtest_data(df_bt['High'])\n",
        "  df_bt['Low'] = backtest_data(df_bt['Low'])\n",
        "  df_bt['Close'] = backtest_data(df_bt['Close'])\n",
        "  df_bt['Volume'] = backtest_data(df_bt['Volume'])\n",
        "\n",
        "# GDC --------------------------------------------------------------------------\n",
        "\n",
        "  try:\n",
        "\n",
        "    random.seed(3)\n",
        "\n",
        "    PARAM_NAMES = [\"pfast\", \"pslow\"]\n",
        "\n",
        "    NGEN = 5  # 알고리즘 5번 반복.\n",
        "    NPOP = 100 #인구 초기\n",
        "    CXPB = 0.5  #교차 전략 \n",
        "    MUTPB = 0.3  #돌연변이 전략.\n",
        "\n",
        "\n",
        "    #최소fintness 설정 (fitness값이 작을수록 좋도록 설정)\n",
        "    creator.create(\"FitnessMin\", base.Fitness, weights=(-1.0,))\n",
        "    creator.create('Individual', list, fitness=creator.FitnessMin)\n",
        "\n",
        "    # creator.create(\"FitnessMax\", base.Fitness, weights=(1.0,))\n",
        "    # creator.create(\"Individual\", list, fitness=creator.FitnessMax)\n",
        "\n",
        "    def evaluate(individual, plot=False, log=False):\n",
        "\n",
        "      strategy_params = {k: v for k, v in zip(PARAM_NAMES, individual)}\n",
        "\n",
        "      cerebro = bt.Cerebro(stdstats=False)\n",
        "\n",
        "      data = bt.feeds.PandasData(dataname = df_bt)\n",
        "\n",
        "      cerebro.adddata(data)\n",
        "\n",
        "      initial_capital = 1000000\n",
        "      cerebro.broker.setcash(initial_capital)\n",
        "\n",
        "      cerebro.addstrategy(SmaCross1, **strategy_params)\n",
        "\n",
        "      cerebro.addanalyzer(bt.analyzers.DrawDown)\n",
        "\n",
        "      cerebro.broker.setcommission(commission=0.0025, margin=False)  #수수료 설정\n",
        "\n",
        "      strats = cerebro.run()\n",
        "\n",
        "      profit = cerebro.broker.getvalue() - initial_capital\n",
        "      \n",
        "      if profit == 0:\n",
        "        return [np.inf]\n",
        "\n",
        "      # max_dd = strats[0].analyzers.drawdown.get_analysis()[\"max\"][\"moneydown\"] # max.moneydown - max drawdown value in monetary units\n",
        "      # fitness = profit / (max_dd if max_dd > 0 else 1)\n",
        "      fitness = round(1 / profit, 15)\n",
        "\n",
        "      if log:\n",
        "        print(f\"Starting Portfolio Value: {initial_capital:,.2f}\")\n",
        "        print(f\"Final Portfolio Value:  {cerebro.broker.getvalue():,.2f}\")\n",
        "        print(f\"Total Profit:       {profit:,.2f}\")\n",
        "        print(f\"Profit / Max DD:     {fitness}\")\n",
        "\n",
        "      # if plot:\n",
        "        # cerebro.plot()\n",
        "\n",
        "      return [fitness]\n",
        "\n",
        "    toolbox = base.Toolbox()\n",
        "    toolbox.register(\"indices\", random.sample, range(NPOP), NPOP)\n",
        "\n",
        "    # crossover strategy\n",
        "    toolbox.register(\"mate\", tools.cxUniform, indpb=CXPB)\n",
        "    # mutation strategy\n",
        "    toolbox.register(\"mutate\", tools.mutUniformInt, low=1, up=151, indpb=0.2)\n",
        "    # selection strategy\n",
        "    toolbox.register(\"select\", tools.selTournament, tournsize=3)\n",
        "    # fitness function\n",
        "    toolbox.register(\"evaluate\", evaluate)\n",
        "\n",
        "\n",
        "    # definition of an individual & a population\n",
        "    toolbox.register(\"attr_sma1\", random.randint, 1, 100)\n",
        "    toolbox.register(\"attr_sma2\", random.randint, 151, 251) \n",
        "    toolbox.register(\n",
        "      \"individual\",\n",
        "      tools.initCycle,\n",
        "      creator.Individual,\n",
        "      (\n",
        "        toolbox.attr_sma1,\n",
        "        toolbox.attr_sma2,\n",
        "\n",
        "      ),\n",
        "    )\n",
        "\n",
        "    toolbox.register(\"population\", tools.initRepeat, list, toolbox.individual)\n",
        "\n",
        "    mean = np.ndarray(NGEN)\n",
        "    best = np.ndarray(NGEN)\n",
        "    hall_of_fame = tools.HallOfFame(maxsize=3)\n",
        "\n",
        "    t = time.perf_counter()\n",
        "    pop = toolbox.population(n=NPOP)\n",
        "    for g in trange(NGEN):\n",
        "      # Select the next generation individuals\n",
        "      offspring = toolbox.select(pop, len(pop))\n",
        "      # Clone the selected individuals\n",
        "      offspring = list(map(toolbox.clone, offspring))\n",
        "\n",
        "      # Apply crossover on the offspring\n",
        "      for child1, child2 in zip(offspring[::2], offspring[1::2]):\n",
        "        if random.random() < CXPB:\n",
        "          toolbox.mate(child1, child2)\n",
        "          del child1.fitness.values\n",
        "          del child2.fitness.values\n",
        "\n",
        "      # Apply mutation on the offspring\n",
        "      for mutant in offspring:\n",
        "        if random.random() < MUTPB:\n",
        "          toolbox.mutate(mutant)\n",
        "          del mutant.fitness.values\n",
        "\n",
        "      # Evaluate the individuals with an invalid fitness\n",
        "      invalid_ind = [ind for ind in offspring if not ind.fitness.valid]\n",
        "      fitnesses = toolbox.map(toolbox.evaluate, invalid_ind)\n",
        "      for ind, fit in zip(invalid_ind, fitnesses):\n",
        "        ind.fitness.values = fit\n",
        "\n",
        "      # The population is entirely replaced by the offspring\n",
        "      pop[:] = offspring\n",
        "      hall_of_fame.update(pop)\n",
        "      print(\n",
        "        \"\\n HALL OF FAME:\\n\"\n",
        "        + \"\\n\".join(\n",
        "          [\n",
        "            f\"  {_}: {ind}, Fitness: {ind.fitness.values[0]}\"\n",
        "            for _, ind in enumerate(hall_of_fame)\n",
        "          ]\n",
        "        )\n",
        "      )\n",
        "\n",
        "      fitnesses = [\n",
        "        ind.fitness.values[0] for ind in pop if not np.isinf(ind.fitness.values[0])\n",
        "      ]\n",
        "      mean[g] = np.mean(fitnesses)\n",
        "      best[g] = np.max(fitnesses)\n",
        "\n",
        "    end_t = time.perf_counter()\n",
        "    print(f\"Time Elapsed: {end_t - t:,.2f}\")\n",
        "    \n",
        "    # 최적의 파라미터 값 출력\n",
        "    OPTIMISED_STRATEGY_PARAMS = {\n",
        "      k: v for k, v in zip(PARAM_NAMES, hall_of_fame[0])}\n",
        "    GDC_params = list(OPTIMISED_STRATEGY_PARAMS.values())\n",
        "    print('**GDC 파라미터 값: ', GDC_params)\n",
        "    print('\\n')\n",
        "\n",
        "  except:\n",
        "    GDC_params = [50, 200]\n",
        "  \n",
        "# RSI --------------------------------------------------------------------------\n",
        "\n",
        "  try:\n",
        "\n",
        "    random.seed(3)\n",
        "\n",
        "    PARAM_NAMES = [\"period\"]\n",
        "\n",
        "    NGEN = 5  # 알고리즘 5번 반복.\n",
        "    NPOP = 100 #인구 초기\n",
        "    CXPB = 0.5  #교차 전략 \n",
        "    MUTPB = 0.3  #돌연변이 전략.\n",
        "\n",
        "\n",
        "    #최소fintness 설정 (fitness값이 작을수록 좋도록 설정)\n",
        "    creator.create(\"FitnessMin\", base.Fitness, weights=(-1.0,))\n",
        "    creator.create('Individual', list, fitness=creator.FitnessMin)\n",
        "\n",
        "    # creator.create(\"FitnessMax\", base.Fitness, weights=(1.0,))\n",
        "    # creator.create(\"Individual\", list, fitness=creator.FitnessMax)\n",
        "\n",
        "    def evaluate(individual, plot=False, log=False):\n",
        "\n",
        "      strategy_params = {k: v for k, v in zip(PARAM_NAMES, individual)}\n",
        "\n",
        "      cerebro = bt.Cerebro(stdstats=False)\n",
        "\n",
        "      data = bt.feeds.PandasData(dataname = df_bt)\n",
        "\n",
        "      cerebro.adddata(data)\n",
        "\n",
        "      initial_capital = 1000000\n",
        "      cerebro.broker.setcash(initial_capital)\n",
        "\n",
        "      cerebro.addstrategy(RSI, **strategy_params)\n",
        "\n",
        "      cerebro.addanalyzer(bt.analyzers.DrawDown)\n",
        "\n",
        "      cerebro.broker.setcommission(commission=0.0025, margin=False)  #수수료 설정\n",
        "\n",
        "      strats = cerebro.run()\n",
        "\n",
        "      profit = cerebro.broker.getvalue() - initial_capital\n",
        "      \n",
        "      if profit == 0:\n",
        "        return [np.inf]\n",
        "\n",
        "      # max_dd = strats[0].analyzers.drawdown.get_analysis()[\"max\"][\"moneydown\"] # max.moneydown - max drawdown value in monetary units\n",
        "      # fitness = profit / (max_dd if max_dd > 0 else 1)\n",
        "      fitness = round(1 / profit, 15)\n",
        "\n",
        "      if log:\n",
        "        print(f\"Starting Portfolio Value: {initial_capital:,.2f}\")\n",
        "        print(f\"Final Portfolio Value:  {cerebro.broker.getvalue():,.2f}\")\n",
        "        print(f\"Total Profit:       {profit:,.2f}\")\n",
        "        print(f\"Profit / Max DD:     {fitness}\")\n",
        "\n",
        "      # if plot:\n",
        "        # cerebro.plot()\n",
        "\n",
        "      return [fitness]\n",
        "\n",
        "    toolbox = base.Toolbox()\n",
        "    toolbox.register(\"indices\", random.sample, range(NPOP), NPOP)\n",
        "\n",
        "    # crossover strategy\n",
        "    toolbox.register(\"mate\", tools.cxUniform, indpb=CXPB)\n",
        "    # mutation strategy\n",
        "    toolbox.register(\"mutate\", tools.mutUniformInt, low=1, up=151, indpb=0.2)\n",
        "    # selection strategy\n",
        "    toolbox.register(\"select\", tools.selTournament, tournsize=3)\n",
        "    # fitness function\n",
        "    toolbox.register(\"evaluate\", evaluate)\n",
        "\n",
        "\n",
        "    # definition of an individual & a population\n",
        "    toolbox.register(\"attr_period\", random.randint, 1, 100)\n",
        "    toolbox.register(\n",
        "      \"individual\",\n",
        "      tools.initCycle,\n",
        "      creator.Individual,\n",
        "      (\n",
        "        toolbox.attr_period,\n",
        "\n",
        "      ),\n",
        "    )\n",
        "\n",
        "    toolbox.register(\"population\", tools.initRepeat, list, toolbox.individual)\n",
        "\n",
        "    mean = np.ndarray(NGEN)\n",
        "    best = np.ndarray(NGEN)\n",
        "    hall_of_fame = tools.HallOfFame(maxsize=3)\n",
        "\n",
        "    t = time.perf_counter()\n",
        "    pop = toolbox.population(n=NPOP)\n",
        "    for g in trange(NGEN):\n",
        "      # Select the next generation individuals\n",
        "      offspring = toolbox.select(pop, len(pop))\n",
        "      # Clone the selected individuals\n",
        "      offspring = list(map(toolbox.clone, offspring))\n",
        "\n",
        "      # Apply crossover on the offspring\n",
        "      for child1, child2 in zip(offspring[::2], offspring[1::2]):\n",
        "        if random.random() < CXPB:\n",
        "          toolbox.mate(child1, child2)\n",
        "          del child1.fitness.values\n",
        "          del child2.fitness.values\n",
        "\n",
        "      # Apply mutation on the offspring\n",
        "      for mutant in offspring:\n",
        "        if random.random() < MUTPB:\n",
        "          toolbox.mutate(mutant)\n",
        "          del mutant.fitness.values\n",
        "\n",
        "      # Evaluate the individuals with an invalid fitness\n",
        "      invalid_ind = [ind for ind in offspring if not ind.fitness.valid]\n",
        "      fitnesses = toolbox.map(toolbox.evaluate, invalid_ind)\n",
        "      for ind, fit in zip(invalid_ind, fitnesses):\n",
        "        ind.fitness.values = fit\n",
        "\n",
        "      # The population is entirely replaced by the offspring\n",
        "      pop[:] = offspring\n",
        "      hall_of_fame.update(pop)\n",
        "      print(\n",
        "        \"\\n HALL OF FAME:\\n\"\n",
        "        + \"\\n\".join(\n",
        "          [\n",
        "            f\"  {_}: {ind}, Fitness: {ind.fitness.values[0]}\"\n",
        "            for _, ind in enumerate(hall_of_fame)\n",
        "          ]\n",
        "        )\n",
        "      )\n",
        "\n",
        "      fitnesses = [\n",
        "        ind.fitness.values[0] for ind in pop if not np.isinf(ind.fitness.values[0])\n",
        "      ]\n",
        "      mean[g] = np.mean(fitnesses)\n",
        "      best[g] = np.max(fitnesses)\n",
        "\n",
        "    end_t = time.perf_counter()\n",
        "    print(f\"Time Elapsed: {end_t - t:,.2f}\")\n",
        "\n",
        "    # 최적의 파라미터 값 출력\n",
        "    OPTIMISED_STRATEGY_PARAMS = {\n",
        "      k: v for k, v in zip(PARAM_NAMES, hall_of_fame[0])}\n",
        "    RSI_params = list(OPTIMISED_STRATEGY_PARAMS.values())\n",
        "    print('RSI 파라미터 값: ', RSI_params)\n",
        "    print('\\n')\n",
        "\n",
        "  except:\n",
        "    RSI_params = [26]\n",
        "\n",
        "# ROC --------------------------------------------------------------------------\n",
        "\n",
        "  try:\n",
        "\n",
        "    random.seed(3)\n",
        "\n",
        "    PARAM_NAMES = [\"period\"]\n",
        "\n",
        "    NGEN = 5  # 알고리즘 5번 반복.\n",
        "    NPOP = 100 #인구 초기\n",
        "    CXPB = 0.5  #교차 전략 \n",
        "    MUTPB = 0.3  #돌연변이 전략.\n",
        "\n",
        "\n",
        "    #최소fintness 설정 (fitness값이 작을수록 좋도록 설정)\n",
        "    creator.create(\"FitnessMin\", base.Fitness, weights=(-1.0,))\n",
        "    creator.create('Individual', list, fitness=creator.FitnessMin)\n",
        "\n",
        "    # creator.create(\"FitnessMax\", base.Fitness, weights=(1.0,))\n",
        "    # creator.create(\"Individual\", list, fitness=creator.FitnessMax)\n",
        "\n",
        "    def evaluate(individual, plot=False, log=False):\n",
        "\n",
        "      strategy_params = {k: v for k, v in zip(PARAM_NAMES, individual)}\n",
        "\n",
        "      cerebro = bt.Cerebro(stdstats=False)\n",
        "\n",
        "      data = bt.feeds.PandasData(dataname = df_bt)\n",
        "\n",
        "      cerebro.adddata(data)\n",
        "\n",
        "      initial_capital = 1000000\n",
        "      cerebro.broker.setcash(initial_capital)\n",
        "\n",
        "      cerebro.addstrategy(ROC, **strategy_params)\n",
        "\n",
        "      cerebro.addanalyzer(bt.analyzers.DrawDown)\n",
        "\n",
        "      cerebro.broker.setcommission(commission=0.0025, margin=False)  #수수료 설정\n",
        "\n",
        "      strats = cerebro.run()\n",
        "\n",
        "      profit = cerebro.broker.getvalue() - initial_capital\n",
        "\n",
        "      if profit == 0:\n",
        "        return [np.inf]\n",
        "\n",
        "      # max_dd = strats[0].analyzers.drawdown.get_analysis()[\"max\"][\"moneydown\"] # max.moneydown - max drawdown value in monetary units\n",
        "      # fitness = profit / (max_dd if max_dd > 0 else 1)\n",
        "      fitness = round(1 / profit, 15)\n",
        "\n",
        "      if log:\n",
        "        print(f\"Starting Portfolio Value: {initial_capital:,.2f}\")\n",
        "        print(f\"Final Portfolio Value:  {cerebro.broker.getvalue():,.2f}\")\n",
        "        print(f\"Total Profit:       {profit:,.2f}\")\n",
        "        print(f\"Profit / Max DD:     {fitness}\")\n",
        "\n",
        "      # if plot:\n",
        "        # cerebro.plot()\n",
        "\n",
        "      return [fitness]\n",
        "\n",
        "    toolbox = base.Toolbox()\n",
        "    toolbox.register(\"indices\", random.sample, range(NPOP), NPOP)\n",
        "\n",
        "    # crossover strategy\n",
        "    toolbox.register(\"mate\", tools.cxUniform, indpb=CXPB)\n",
        "    # mutation strategy\n",
        "    toolbox.register(\"mutate\", tools.mutUniformInt, low=1, up=151, indpb=0.2)\n",
        "    # selection strategy\n",
        "    toolbox.register(\"select\", tools.selTournament, tournsize=3)\n",
        "    # fitness function\n",
        "    toolbox.register(\"evaluate\", evaluate)\n",
        "\n",
        "\n",
        "    # definition of an individual & a population\n",
        "    toolbox.register(\"attr_period\", random.randint, 1, 100)\n",
        "    toolbox.register(\n",
        "      \"individual\",\n",
        "      tools.initCycle,\n",
        "      creator.Individual,\n",
        "      (\n",
        "        toolbox.attr_period,\n",
        "\n",
        "      ),\n",
        "    )\n",
        "\n",
        "    toolbox.register(\"population\", tools.initRepeat, list, toolbox.individual)\n",
        "\n",
        "    mean = np.ndarray(NGEN)\n",
        "    best = np.ndarray(NGEN)\n",
        "    hall_of_fame = tools.HallOfFame(maxsize=3)\n",
        "\n",
        "    t = time.perf_counter()\n",
        "    pop = toolbox.population(n=NPOP)\n",
        "    for g in trange(NGEN):\n",
        "      # Select the next generation individuals\n",
        "      offspring = toolbox.select(pop, len(pop))\n",
        "      # Clone the selected individuals\n",
        "      offspring = list(map(toolbox.clone, offspring))\n",
        "\n",
        "      # Apply crossover on the offspring\n",
        "      for child1, child2 in zip(offspring[::2], offspring[1::2]):\n",
        "        if random.random() < CXPB:\n",
        "          toolbox.mate(child1, child2)\n",
        "          del child1.fitness.values\n",
        "          del child2.fitness.values\n",
        "\n",
        "      # Apply mutation on the offspring\n",
        "      for mutant in offspring:\n",
        "        if random.random() < MUTPB:\n",
        "          toolbox.mutate(mutant)\n",
        "          del mutant.fitness.values\n",
        "\n",
        "      # Evaluate the individuals with an invalid fitness\n",
        "      invalid_ind = [ind for ind in offspring if not ind.fitness.valid]\n",
        "      fitnesses = toolbox.map(toolbox.evaluate, invalid_ind)\n",
        "      for ind, fit in zip(invalid_ind, fitnesses):\n",
        "        ind.fitness.values = fit\n",
        "\n",
        "      # The population is entirely replaced by the offspring\n",
        "      pop[:] = offspring\n",
        "      hall_of_fame.update(pop)\n",
        "      print(\n",
        "        \"\\n HALL OF FAME:\\n\"\n",
        "        + \"\\n\".join(\n",
        "          [\n",
        "            f\"  {_}: {ind}, Fitness: {ind.fitness.values[0]}\"\n",
        "            for _, ind in enumerate(hall_of_fame)\n",
        "          ]\n",
        "        )\n",
        "      )\n",
        "\n",
        "      fitnesses = [\n",
        "        ind.fitness.values[0] for ind in pop if not np.isinf(ind.fitness.values[0])\n",
        "      ]\n",
        "      mean[g] = np.mean(fitnesses)\n",
        "      best[g] = np.max(fitnesses)\n",
        "\n",
        "    end_t = time.perf_counter()\n",
        "    print(f\"Time Elapsed: {end_t - t:,.2f}\")\n",
        "    \n",
        "    # 최적의 파라미터 값 출력\n",
        "    OPTIMISED_STRATEGY_PARAMS = {\n",
        "      k: v for k, v in zip(PARAM_NAMES, hall_of_fame[0])}\n",
        "    ROC_params = list(OPTIMISED_STRATEGY_PARAMS.values())\n",
        "    print('**ROC 파라미터 값: ', ROC_params)\n",
        "\n",
        "  except:\n",
        "    ROC_params = [14]\n",
        "\n",
        "# MAP --------------------------------------------------------------------------\n",
        "\n",
        "  try:\n",
        "\n",
        "    random.seed(3)\n",
        "\n",
        "    PARAM_NAMES = [\"period\", \"upperLimit\", \"lowerLimit\"]\n",
        "\n",
        "    NGEN = 5  # 알고리즘 5번 반복.\n",
        "    NPOP = 100 #인구 초기\n",
        "    CXPB = 0.5  #교차 전략 \n",
        "    MUTPB = 0.3  #돌연변이 전략.\n",
        "\n",
        "\n",
        "    #최소fintness 설정 (fitness값이 작을수록 좋도록 설정)\n",
        "    creator.create(\"FitnessMin\", base.Fitness, weights=(-1.0,))\n",
        "    creator.create('Individual', list, fitness=creator.FitnessMin)\n",
        "\n",
        "    # creator.create(\"FitnessMax\", base.Fitness, weights=(1.0,))\n",
        "    # creator.create(\"Individual\", list, fitness=creator.FitnessMax)\n",
        "\n",
        "    def evaluate(individual, plot=False, log=False):\n",
        "\n",
        "      strategy_params = {k: v for k, v in zip(PARAM_NAMES, individual)}\n",
        "\n",
        "      cerebro = bt.Cerebro(stdstats=False)\n",
        "\n",
        "      data = bt.feeds.PandasData(dataname = df_bt)\n",
        "\n",
        "      cerebro.adddata(data)\n",
        "\n",
        "      initial_capital = 1000000\n",
        "      cerebro.broker.setcash(initial_capital)\n",
        "\n",
        "      cerebro.addstrategy(MAP, **strategy_params)\n",
        "\n",
        "      cerebro.addanalyzer(bt.analyzers.DrawDown)\n",
        "\n",
        "      cerebro.broker.setcommission(commission=0.0025, margin=False)  #수수료 설정\n",
        "\n",
        "      strats = cerebro.run()\n",
        "\n",
        "      #profit = cerebro.broker.getvalue() - initial_capital\n",
        "      profit = cerebro.broker.getvalue()\n",
        "\n",
        "      if profit == 0:\n",
        "        return [np.inf]\n",
        "      # max_dd = strats[0].analyzers.drawdown.get_analysis()[\"max\"][\"moneydown\"] # max.moneydown - max drawdown value in monetary units\n",
        "      # fitness = profit / (max_dd if max_dd > 0 else 1)\n",
        "      fitness = round(1 / profit, 15)\n",
        "\n",
        "      if log:\n",
        "        print(f\"Starting Portfolio Value: {initial_capital:,.2f}\")\n",
        "        print(f\"Final Portfolio Value:  {cerebro.broker.getvalue():,.2f}\")\n",
        "        print(f\"Total Profit:       {profit:,.2f}\")\n",
        "        print(f\"Profit / Max DD:     {fitness}\")\n",
        "\n",
        "      # if plot:\n",
        "        # cerebro.plot()\n",
        "\n",
        "      return [fitness]\n",
        "\n",
        "    toolbox = base.Toolbox()\n",
        "    toolbox.register(\"indices\", random.sample, range(NPOP), NPOP)\n",
        "\n",
        "    # crossover strategy\n",
        "    toolbox.register(\"mate\", tools.cxUniform, indpb=CXPB)\n",
        "    # mutation strategy\n",
        "    toolbox.register(\"mutate\", tools.mutUniformInt, low=1, up=151, indpb=0.2)\n",
        "    # selection strategy\n",
        "    toolbox.register(\"select\", tools.selTournament, tournsize=3)\n",
        "    # fitness function\n",
        "    toolbox.register(\"evaluate\", evaluate)\n",
        "\n",
        "\n",
        "    # definition of an individual & a population\n",
        "    toolbox.register(\"attr_period\", random.randint, 1, 100)\n",
        "    toolbox.register(\"attr_upperLimit\", random.uniform, 0.05, 0.09)\n",
        "    toolbox.register(\"attr_lowerLimit\", random.uniform, 0.05, 0.09)\n",
        "    \n",
        "    toolbox.register(\n",
        "      \"individual\",\n",
        "      tools.initCycle,\n",
        "      creator.Individual,\n",
        "      (\n",
        "        toolbox.attr_period,\n",
        "        toolbox.attr_upperLimit,\n",
        "        toolbox.attr_lowerLimit,\n",
        "\n",
        "      ),\n",
        "    )\n",
        "\n",
        "    toolbox.register(\"population\", tools.initRepeat, list, toolbox.individual)\n",
        "\n",
        "    mean = np.ndarray(NGEN)\n",
        "    best = np.ndarray(NGEN)\n",
        "    hall_of_fame = tools.HallOfFame(maxsize=3)\n",
        "\n",
        "    t = time.perf_counter()\n",
        "    pop = toolbox.population(n=NPOP)\n",
        "    for g in trange(NGEN):\n",
        "      # Select the next generation individuals\n",
        "      offspring = toolbox.select(pop, len(pop))\n",
        "      # Clone the selected individuals\n",
        "      offspring = list(map(toolbox.clone, offspring))\n",
        "\n",
        "      # Apply crossover on the offspring\n",
        "      for child1, child2 in zip(offspring[::2], offspring[1::2]):\n",
        "        if random.random() < CXPB:\n",
        "          toolbox.mate(child1, child2)\n",
        "          del child1.fitness.values\n",
        "          del child2.fitness.values\n",
        "\n",
        "      # Apply mutation on the offspring\n",
        "      for mutant in offspring:\n",
        "        if random.random() < MUTPB:\n",
        "          toolbox.mutate(mutant)\n",
        "          del mutant.fitness.values\n",
        "\n",
        "      # Evaluate the individuals with an invalid fitness\n",
        "      invalid_ind = [ind for ind in offspring if not ind.fitness.valid]\n",
        "      fitnesses = toolbox.map(toolbox.evaluate, invalid_ind)\n",
        "      for ind, fit in zip(invalid_ind, fitnesses):\n",
        "        ind.fitness.values = fit\n",
        "\n",
        "      # The population is entirely replaced by the offspring\n",
        "      pop[:] = offspring\n",
        "      hall_of_fame.update(pop)\n",
        "      print(\n",
        "        \"\\n HALL OF FAME:\\n\"\n",
        "        + \"\\n\".join(\n",
        "          [\n",
        "            f\"  {_}: {ind}, Fitness: {ind.fitness.values[0]}\"\n",
        "            for _, ind in enumerate(hall_of_fame)\n",
        "          ]\n",
        "        )\n",
        "      )\n",
        "\n",
        "      fitnesses = [\n",
        "        ind.fitness.values[0] for ind in pop if not np.isinf(ind.fitness.values[0])\n",
        "      ]\n",
        "      mean[g] = np.mean(fitnesses)\n",
        "      best[g] = np.max(fitnesses)\n",
        "\n",
        "    end_t = time.perf_counter()\n",
        "    print(f\"Time Elapsed: {end_t - t:,.2f}\")\n",
        "    \n",
        "    # 최적의 파라미터 값 출력\n",
        "    OPTIMISED_STRATEGY_PARAMS = {\n",
        "      k: v for k, v in zip(PARAM_NAMES, hall_of_fame[0])}\n",
        "    MAP_params = list(OPTIMISED_STRATEGY_PARAMS.values())\n",
        "    print('**MAP 파라미터 값: ', MAP_params)\n",
        "\n",
        "  except:\n",
        "    MAP_params = [12, 0.07, 0.07]\n",
        "\n",
        "# STC --------------------------------------------------------------------------\n",
        "\n",
        "  try:\n",
        "\n",
        "    random.seed(3)\n",
        "\n",
        "    PARAM_NAMES = [\"period\",\"pfast\",\"pslow\",\"upperLimit\",\"lowerLimit\"]\n",
        "\n",
        "    NGEN = 5  # 알고리즘 5번 반복.\n",
        "    NPOP = 100 #인구 초기\n",
        "    CXPB = 0.5  #교차 전략 \n",
        "    MUTPB = 0.3  #돌연변이 전략.\n",
        "\n",
        "\n",
        "    #최소fintness 설정 (fitness값이 작을수록 좋도록 설정)\n",
        "    creator.create(\"FitnessMin\", base.Fitness, weights=(-1.0,))\n",
        "    creator.create('Individual', list, fitness=creator.FitnessMin)\n",
        "\n",
        "    # creator.create(\"FitnessMax\", base.Fitness, weights=(1.0,))\n",
        "    # creator.create(\"Individual\", list, fitness=creator.FitnessMax)\n",
        "\n",
        "    def evaluate(individual, plot=False, log=False):\n",
        "\n",
        "      strategy_params = {k: v for k, v in zip(PARAM_NAMES, individual)}\n",
        "\n",
        "      cerebro = bt.Cerebro(stdstats=False)\n",
        "\n",
        "      data = bt.feeds.PandasData(dataname = df_bt, name = i)\n",
        "\n",
        "      cerebro.adddata(data)\n",
        "\n",
        "      initial_capital = 1000000\n",
        "      cerebro.broker.setcash(initial_capital)\n",
        "\n",
        "      cerebro.addstrategy(StochasticSR, **strategy_params)\n",
        "\n",
        "      cerebro.addanalyzer(bt.analyzers.DrawDown)\n",
        "\n",
        "      cerebro.broker.setcommission(commission=0.0025, margin=False)  #수수료 설정\n",
        "\n",
        "      strats = cerebro.run()\n",
        "\n",
        "      profit = cerebro.broker.getvalue() - initial_capital\n",
        "\n",
        "      # max_dd = strats[0].analyzers.drawdown.get_analysis()[\"max\"][\"moneydown\"] # max.moneydown - max drawdown value in monetary units\n",
        "      # fitness = profit / (max_dd if max_dd > 0 else 1)\n",
        "      fitness = round(1 / profit, 15)\n",
        "\n",
        "      if log:\n",
        "        print(f\"Starting Portfolio Value: {initial_capital:,.2f}\")\n",
        "        print(f\"Final Portfolio Value:  {cerebro.broker.getvalue():,.2f}\")\n",
        "        print(f\"Total Profit:       {profit:,.2f}\")\n",
        "        print(f\"Profit / Max DD:     {fitness}\")\n",
        "\n",
        "      # if plot:\n",
        "        # cerebro.plot()\n",
        "\n",
        "      return [fitness]\n",
        "\n",
        "    toolbox = base.Toolbox()\n",
        "    toolbox.register(\"indices\", random.sample, range(NPOP), NPOP)\n",
        "\n",
        "    # crossover strategy\n",
        "    toolbox.register(\"mate\", tools.cxUniform, indpb=CXPB)\n",
        "    # mutation strategy\n",
        "    toolbox.register(\"mutate\", tools.mutUniformInt, low=1, up=151, indpb=0.2)\n",
        "    # selection strategy\n",
        "    toolbox.register(\"select\", tools.selTournament, tournsize=3)\n",
        "    # fitness function\n",
        "    toolbox.register(\"evaluate\", evaluate)\n",
        "\n",
        "\n",
        "    # definition of an individual & a population\n",
        "    # 파라미터 개수 및 범위 설정 - toolbox.register\n",
        "    toolbox.register('attr_period', random.randint, 5, 31) \n",
        "    toolbox.register('attr_pfast', random.randint, 2, 21)\n",
        "    toolbox.register('attr_pslow', random.randint, 2, 21)\n",
        "    toolbox.register('attr_upperLimit', random.randint, 70, 91)\n",
        "    toolbox.register('attr_lowerLimit', random.randint, 10, 31)\n",
        "\n",
        "\n",
        "    toolbox.register(\n",
        "      \"individual\",\n",
        "      tools.initCycle,\n",
        "      creator.Individual,\n",
        "      (   # 파라미터 개수 설정\n",
        "          toolbox.attr_period,\n",
        "          toolbox.attr_pfast,\n",
        "          toolbox.attr_pslow,\n",
        "          toolbox.attr_upperLimit,\n",
        "          toolbox.attr_lowerLimit,\n",
        "      ),\n",
        "    )\n",
        "\n",
        "    toolbox.register(\"population\", tools.initRepeat, list, toolbox.individual)\n",
        "\n",
        "    mean = np.ndarray(NGEN)\n",
        "    best = np.ndarray(NGEN)\n",
        "    hall_of_fame = tools.HallOfFame(maxsize=3)\n",
        "\n",
        "    t = time.perf_counter()\n",
        "    pop = toolbox.population(n=NPOP)\n",
        "    for g in trange(NGEN):\n",
        "      # Select the next generation individuals\n",
        "      offspring = toolbox.select(pop, len(pop))\n",
        "      # Clone the selected individuals\n",
        "      offspring = list(map(toolbox.clone, offspring))\n",
        "\n",
        "      # Apply crossover on the offspring\n",
        "      for child1, child2 in zip(offspring[::2], offspring[1::2]):\n",
        "        if random.random() < CXPB:\n",
        "          toolbox.mate(child1, child2)\n",
        "          del child1.fitness.values\n",
        "          del child2.fitness.values\n",
        "\n",
        "      # Apply mutation on the offspring\n",
        "      for mutant in offspring:\n",
        "        if random.random() < MUTPB:\n",
        "          toolbox.mutate(mutant)\n",
        "          del mutant.fitness.values\n",
        "\n",
        "      # Evaluate the individuals with an invalid fitness\n",
        "      invalid_ind = [ind for ind in offspring if not ind.fitness.valid]\n",
        "      fitnesses = toolbox.map(toolbox.evaluate, invalid_ind)\n",
        "      for ind, fit in zip(invalid_ind, fitnesses):\n",
        "        ind.fitness.values = fit\n",
        "\n",
        "      # The population is entirely replaced by the offspring\n",
        "      pop[:] = offspring\n",
        "      hall_of_fame.update(pop)\n",
        "      print(\n",
        "        \"HALL OF FAME:\\n\"\n",
        "        + \"\\n\".join(\n",
        "          [\n",
        "            f\"  {_}: {ind}, Fitness: {ind.fitness.values[0]}\"\n",
        "            for _, ind in enumerate(hall_of_fame)\n",
        "          ]\n",
        "        )\n",
        "      )\n",
        "\n",
        "      fitnesses = [\n",
        "        ind.fitness.values[0] for ind in pop if not np.isinf(ind.fitness.values[0])\n",
        "      ]\n",
        "      mean[g] = np.mean(fitnesses)\n",
        "      best[g] = np.max(fitnesses)\n",
        "\n",
        "    end_t = time.perf_counter()\n",
        "    print(f\"Time Elapsed: {end_t - t:,.2f}\")\n",
        "    \n",
        "    # 최적의 파라미터 값 출력\n",
        "    OPTIMISED_STRATEGY_PARAMS = {\n",
        "      k: v for k, v in zip(PARAM_NAMES, hall_of_fame[0])}\n",
        "    STC_params = list(OPTIMISED_STRATEGY_PARAMS.values())\n",
        "    print('**STC 파라미터 값: ', STC_params)\n",
        "\n",
        "  except:\n",
        "    STC_params = [14, 3, 3, 80, 20]\n",
        "\n",
        "\n",
        "  # 데이터 불러와서 가공 ------------------------------------------------------------\n",
        "  df = pd.read_json(json_data[fullcode_list0[j]], orient ='index') \n",
        "  read_df = df.transpose()\n",
        "\n",
        "  read_df[\"GDC_sig\"] = \"\"\n",
        "  read_df[\"RSI_sig\"] = \"\"\n",
        "  read_df[\"ROC_sig\"] = \"\"\n",
        "  read_df[\"STC_sig\"] = \"\"\n",
        "  read_df[\"MAP_sig\"] = \"\"\n",
        "\n",
        "  read_df['TDD_CLSPRC'] = backtest_data(read_df['TDD_CLSPRC'])\n",
        "  read_df['TDD_HGPRC'] = backtest_data(read_df['TDD_HGPRC'])\n",
        "  read_df['TDD_LWPRC'] = backtest_data(read_df['TDD_LWPRC'])\n",
        "  read_df['pfast'] = talib.MA(read_df['TDD_CLSPRC'], timeperiod = GDC_params[0], matype=0)\n",
        "  read_df['pslow'] = talib.MA(read_df['TDD_CLSPRC'], timeperiod = GDC_params[1], matype=0)\n",
        "  read_df['RSI'] = talib.RSI(read_df['TDD_CLSPRC'], timeperiod = RSI_params[0])\n",
        "  read_df['ROC'] = talib.ROC(read_df['TDD_CLSPRC'], timeperiod = ROC_params[0]) \n",
        "  read_df['slowk'], read_df['slowd'] = talib.STOCH(read_df['TDD_HGPRC'], read_df['TDD_LWPRC'], read_df['TDD_CLSPRC'], fastk_period = STC_params[0], slowk_period = STC_params[1], slowd_period = STC_params[2], slowk_matype=0, slowd_matype=0)\n",
        "  read_df['MA'] = talib.MA(read_df['TDD_CLSPRC'], timeperiod = MAP_params[0])\n",
        "  ul = []\n",
        "  ll = []\n",
        "\n",
        "\n",
        "  for i in read_df['MA']:\n",
        "    uls = i + (MAP_params[1] * i)\n",
        "    lls = i - (MAP_params[2] * i)\n",
        "    ul.append(uls)\n",
        "    ll.append(lls)\n",
        "  \n",
        "  read_df['ul'] = ul\n",
        "  read_df['ll'] = ll\n",
        "\n",
        "  # 매도, 매수 전략 설정 후 GDC_sig 열 추가\n",
        "  first_cross = 0 \n",
        "  for i in range(0, len(read_df)):\n",
        "    if read_df['pfast'][i] < read_df['pslow'][i] and first_cross == 0:\n",
        "      # print('Death cross on day', df['TRD_DD'][i], ':expect the price to continue to fall (매도)')\n",
        "      read_df['GDC_sig'][i] = 1\n",
        "      first_cross=1\n",
        "    elif read_df['pfast'][i] > read_df['pslow'][i] and first_cross ==1:\n",
        "      # print('Golden cross on day', df['TRD_DD'][i], ':expect the price to continue to rise (매수)')\n",
        "      first_cross=0\n",
        "      read_df['GDC_sig'][i] = -1\n",
        "    else:\n",
        "      read_df['GDC_sig'][i] = 0\n",
        "\n",
        "  # 매도 매수 전략 설정 후 RSI_sig 열 추가\n",
        "  for i in range(0, len(read_df)):\n",
        "    if read_df['RSI'][i] < 30: # 30보다 작으면 매수시점\n",
        "        read_df['RSI_sig'][i] = -1\n",
        "    elif read_df['RSI'][i] >= 70: # 70보다 크면 매도시점\n",
        "        read_df['RSI_sig'][i] = 1\n",
        "    else:\n",
        "        read_df['RSI_sig'][i] = 0\n",
        "\n",
        "  # 매도 매수 전략 설정 후 ROC_sig 열 추가\n",
        "  for i in range(0, len(read_df)):\n",
        "    if read_df['ROC'][i] < 0: # 30보다 작으면 매도시점\n",
        "        read_df['ROC_sig'][i] = 1\n",
        "    elif read_df['ROC'][i] >= 0: # 70보다 크면 매수시점\n",
        "        read_df['ROC_sig'][i] = -1\n",
        "    else:\n",
        "        read_df['ROC_sig'][i] = 0      \n",
        "\n",
        "  # 매도 매수 전략 설정 후 MAP_sig 열 추가\n",
        "  for i in range(0, len(read_df)):\n",
        "    if read_df['TDD_CLSPRC'][i] > read_df['ul'][i]: # 매도\n",
        "      read_df['MAP_sig'][i] = 1\n",
        "    elif read_df['TDD_CLSPRC'][i] < read_df['ll'][i]: # 매수\n",
        "      read_df['MAP_sig'][i] = -1\n",
        "    else:\n",
        "      read_df['MAP_sig'][i] = 0\n",
        "  \n",
        "  # 매도 매수 전략 설정 후 STC_sig 열 추가\n",
        "  for i in range(0, len(read_df)):\n",
        "    if read_df['slowk'][i] < read_df['slowd'][i] and read_df['slowd'][i] < STC_params[4]:\n",
        "      read_df['STC_sig'][i] = -1\n",
        "    elif read_df['slowk'][i] > read_df['slowd'][i] and read_df['slowd'][i] > STC_params[3]:\n",
        "      read_df['STC_sig'][i] = 1\n",
        "    else:\n",
        "      read_df['STC_sig'][i] = 0\n",
        "\n",
        "  # result = read_df.drop(['pfast', 'pslow', 'RSI'], axis='columns')\n",
        "  result = read_df[['TRD_DD','MKTCAP', 'GDC_sig', 'RSI_sig', 'ROC_sig', 'MAP_sig', 'STC_sig']]\n",
        "  print(result)\n",
        "\n",
        "  result_js = result.to_json(orient = 'columns') # 데이터프레임을 json 형태로 변환\n",
        "  result_dict[fullcode_list0[j]] = result_js # fullcode가 key값이 되고 json이 value값이 됨\n",
        "\n",
        "with open('/content/drive/MyDrive/[Shared]K-Project/data/optimization.json', 'w') as f:\n",
        "    json.dump(result_dict, f)\n"
      ],
      "execution_count": null,
      "outputs": [
        {
          "output_type": "stream",
          "name": "stdout",
          "text": [
            "0\n",
            "KR7060310000\n"
          ]
        },
        {
          "output_type": "stream",
          "name": "stderr",
          "text": [
            " 20%|██        | 1/5 [03:03<12:15, 183.82s/it]"
          ]
        },
        {
          "output_type": "stream",
          "name": "stdout",
          "text": [
            "\n",
            " HALL OF FAME:\n",
            "  0: [3, 193], Fitness: -3.1397568572e-05\n",
            "  1: [67, 200], Fitness: -1.7942111571e-05\n",
            "  2: [4, 186], Fitness: -1.7186796416e-05\n"
          ]
        },
        {
          "output_type": "stream",
          "name": "stderr",
          "text": [
            "\r 40%|████      | 2/5 [04:59<07:11, 143.87s/it]"
          ]
        },
        {
          "output_type": "stream",
          "name": "stdout",
          "text": [
            "\n",
            " HALL OF FAME:\n",
            "  0: [3, 193], Fitness: -3.1397568572e-05\n",
            "  1: [67, 200], Fitness: -1.7942111571e-05\n",
            "  2: [4, 186], Fitness: -1.7186796416e-05\n"
          ]
        },
        {
          "output_type": "stream",
          "name": "stderr",
          "text": [
            "\r 60%|██████    | 3/5 [07:00<04:26, 133.24s/it]"
          ]
        },
        {
          "output_type": "stream",
          "name": "stdout",
          "text": [
            "\n",
            " HALL OF FAME:\n",
            "  0: [3, 193], Fitness: -3.1397568572e-05\n",
            "  1: [67, 200], Fitness: -1.7942111571e-05\n",
            "  2: [8, 191], Fitness: -1.7704880882e-05\n"
          ]
        },
        {
          "output_type": "stream",
          "name": "stderr",
          "text": [
            "\r 80%|████████  | 4/5 [09:11<02:12, 132.34s/it]"
          ]
        },
        {
          "output_type": "stream",
          "name": "stdout",
          "text": [
            "\n",
            " HALL OF FAME:\n",
            "  0: [8, 166], Fitness: -4.0458905131e-05\n",
            "  1: [3, 193], Fitness: -3.1397568572e-05\n",
            "  2: [67, 200], Fitness: -1.7942111571e-05\n"
          ]
        },
        {
          "output_type": "stream",
          "name": "stderr",
          "text": [
            "100%|██████████| 5/5 [11:04<00:00, 132.81s/it]\n",
            "/usr/local/lib/python3.7/dist-packages/deap/creator.py:141: RuntimeWarning: A class named 'FitnessMin' has already been created and it will be overwritten. Consider deleting previous creation of that class or rename it.\n",
            "  RuntimeWarning)\n",
            "/usr/local/lib/python3.7/dist-packages/deap/creator.py:141: RuntimeWarning: A class named 'Individual' has already been created and it will be overwritten. Consider deleting previous creation of that class or rename it.\n",
            "  RuntimeWarning)\n"
          ]
        },
        {
          "output_type": "stream",
          "name": "stdout",
          "text": [
            "\n",
            " HALL OF FAME:\n",
            "  0: [8, 166], Fitness: -4.0458905131e-05\n",
            "  1: [3, 193], Fitness: -3.1397568572e-05\n",
            "  2: [67, 206], Fitness: -2.2140254082e-05\n",
            "Time Elapsed: 664.05\n",
            "**GDC 파라미터 값:  [8, 166]\n",
            "\n",
            "\n"
          ]
        },
        {
          "output_type": "stream",
          "name": "stderr",
          "text": [
            " 20%|██        | 1/5 [02:52<11:28, 172.24s/it]"
          ]
        },
        {
          "output_type": "stream",
          "name": "stdout",
          "text": [
            "\n",
            " HALL OF FAME:\n",
            "  0: [25], Fitness: -0.001127554615927\n",
            "  1: [9], Fitness: -0.001111435279734\n",
            "  2: [39], Fitness: -0.000529408650537\n"
          ]
        },
        {
          "output_type": "stream",
          "name": "stderr",
          "text": [
            "\r 40%|████      | 2/5 [04:47<06:56, 138.88s/it]"
          ]
        },
        {
          "output_type": "stream",
          "name": "stdout",
          "text": [
            "\n",
            " HALL OF FAME:\n",
            "  0: [25], Fitness: -0.001127554615927\n",
            "  1: [9], Fitness: -0.001111435279734\n",
            "  2: [39], Fitness: -0.000529408650537\n"
          ]
        },
        {
          "output_type": "stream",
          "name": "stderr",
          "text": [
            "\r 60%|██████    | 3/5 [06:41<04:14, 127.48s/it]"
          ]
        },
        {
          "output_type": "stream",
          "name": "stdout",
          "text": [
            "\n",
            " HALL OF FAME:\n",
            "  0: [25], Fitness: -0.001127554615927\n",
            "  1: [9], Fitness: -0.001111435279734\n",
            "  2: [39], Fitness: -0.000529408650537\n"
          ]
        },
        {
          "output_type": "stream",
          "name": "stderr",
          "text": [
            "\r 80%|████████  | 4/5 [08:48<02:07, 127.14s/it]"
          ]
        },
        {
          "output_type": "stream",
          "name": "stdout",
          "text": [
            "\n",
            " HALL OF FAME:\n",
            "  0: [25], Fitness: -0.001127554615927\n",
            "  1: [9], Fitness: -0.001111435279734\n",
            "  2: [39], Fitness: -0.000529408650537\n"
          ]
        },
        {
          "output_type": "stream",
          "name": "stderr",
          "text": [
            "100%|██████████| 5/5 [10:57<00:00, 131.44s/it]\n"
          ]
        },
        {
          "output_type": "stream",
          "name": "stdout",
          "text": [
            "\n",
            " HALL OF FAME:\n",
            "  0: [25], Fitness: -0.001127554615927\n",
            "  1: [9], Fitness: -0.001111435279734\n",
            "  2: [39], Fitness: -0.000529408650537\n",
            "Time Elapsed: 657.20\n",
            "RSI 파라미터 값:  [25]\n",
            "\n",
            "\n"
          ]
        },
        {
          "output_type": "stream",
          "name": "stderr",
          "text": [
            " 20%|██        | 1/5 [03:06<12:25, 186.44s/it]"
          ]
        },
        {
          "output_type": "stream",
          "name": "stdout",
          "text": [
            "\n",
            " HALL OF FAME:\n",
            "  0: [37], Fitness: -0.004960932655346\n",
            "  1: [25], Fitness: -0.00286841161707\n",
            "  2: [47], Fitness: -0.001375894331315\n"
          ]
        },
        {
          "output_type": "stream",
          "name": "stderr",
          "text": [
            "\r 40%|████      | 2/5 [05:14<07:36, 152.19s/it]"
          ]
        },
        {
          "output_type": "stream",
          "name": "stdout",
          "text": [
            "\n",
            " HALL OF FAME:\n",
            "  0: [37], Fitness: -0.004960932655346\n",
            "  1: [25], Fitness: -0.00286841161707\n",
            "  2: [47], Fitness: -0.001375894331315\n"
          ]
        },
        {
          "output_type": "stream",
          "name": "stderr",
          "text": [
            "\r 60%|██████    | 3/5 [07:12<04:33, 136.58s/it]"
          ]
        },
        {
          "output_type": "stream",
          "name": "stdout",
          "text": [
            "\n",
            " HALL OF FAME:\n",
            "  0: [37], Fitness: -0.004960932655346\n",
            "  1: [25], Fitness: -0.00286841161707\n",
            "  2: [47], Fitness: -0.001375894331315\n"
          ]
        },
        {
          "output_type": "stream",
          "name": "stderr",
          "text": [
            "\r 80%|████████  | 4/5 [09:29<02:16, 136.77s/it]"
          ]
        },
        {
          "output_type": "stream",
          "name": "stdout",
          "text": [
            "\n",
            " HALL OF FAME:\n",
            "  0: [37], Fitness: -0.004960932655346\n",
            "  1: [25], Fitness: -0.00286841161707\n",
            "  2: [47], Fitness: -0.001375894331315\n"
          ]
        },
        {
          "output_type": "stream",
          "name": "stderr",
          "text": [
            "100%|██████████| 5/5 [11:49<00:00, 141.87s/it]\n"
          ]
        },
        {
          "output_type": "stream",
          "name": "stdout",
          "text": [
            "\n",
            " HALL OF FAME:\n",
            "  0: [37], Fitness: -0.004960932655346\n",
            "  1: [25], Fitness: -0.00286841161707\n",
            "  2: [47], Fitness: -0.001375894331315\n",
            "Time Elapsed: 709.36\n",
            "**ROC 파라미터 값:  [37]\n"
          ]
        },
        {
          "output_type": "stream",
          "name": "stderr",
          "text": [
            " 20%|██        | 1/5 [03:05<12:23, 185.87s/it]"
          ]
        },
        {
          "output_type": "stream",
          "name": "stdout",
          "text": [
            "\n",
            " HALL OF FAME:\n",
            "  0: [150, 0.06753722930245548, 8], Fitness: 8.49046892e-07\n",
            "  1: [87, 0.050850102890522955, 0.06476659305427142], Fitness: 8.89476141e-07\n",
            "  2: [92, 0.05888362945089285, 0.07982092036505677], Fitness: 8.89476141e-07\n"
          ]
        },
        {
          "output_type": "stream",
          "name": "stderr",
          "text": [
            "\r 40%|████      | 2/5 [04:57<07:06, 142.21s/it]"
          ]
        },
        {
          "output_type": "stream",
          "name": "stdout",
          "text": [
            "\n",
            " HALL OF FAME:\n",
            "  0: [142, 0.06679084735165008, 0.08922543027373359], Fitness: 8.49046892e-07\n",
            "  1: [150, 0.06753722930245548, 8], Fitness: 8.49046892e-07\n",
            "  2: [87, 0.050850102890522955, 0.06476659305427142], Fitness: 8.89476141e-07\n"
          ]
        },
        {
          "output_type": "stream",
          "name": "stderr",
          "text": [
            "\r 60%|██████    | 3/5 [07:16<04:41, 140.75s/it]"
          ]
        },
        {
          "output_type": "stream",
          "name": "stdout",
          "text": [
            "\n",
            " HALL OF FAME:\n",
            "  0: [138, 0.05734345253221023, 151], Fitness: 8.49046892e-07\n",
            "  1: [142, 0.06679084735165008, 0.08922543027373359], Fitness: 8.49046892e-07\n",
            "  2: [150, 0.06753722930245548, 8], Fitness: 8.49046892e-07\n"
          ]
        },
        {
          "output_type": "stream",
          "name": "stderr",
          "text": [
            "\r 80%|████████  | 4/5 [09:13<02:11, 131.48s/it]"
          ]
        },
        {
          "output_type": "stream",
          "name": "stdout",
          "text": [
            "\n",
            " HALL OF FAME:\n",
            "  0: [105, 99, 0.07076059906583013], Fitness: 8.16297877e-07\n",
            "  1: [138, 0.05734345253221023, 151], Fitness: 8.49046892e-07\n",
            "  2: [142, 0.06679084735165008, 0.08922543027373359], Fitness: 8.49046892e-07\n"
          ]
        },
        {
          "output_type": "stream",
          "name": "stderr",
          "text": [
            "100%|██████████| 5/5 [11:10<00:00, 134.14s/it]\n"
          ]
        },
        {
          "output_type": "stream",
          "name": "stdout",
          "text": [
            "\n",
            " HALL OF FAME:\n",
            "  0: [105, 39, 0.07076059906583013], Fitness: 8.16297877e-07\n",
            "  1: [105, 99, 0.07076059906583013], Fitness: 8.16297877e-07\n",
            "  2: [138, 0.05734345253221023, 151], Fitness: 8.49046892e-07\n",
            "Time Elapsed: 670.74\n",
            "**MAP 파라미터 값:  [105, 39, 0.07076059906583013]\n"
          ]
        },
        {
          "output_type": "stream",
          "name": "stderr",
          "text": [
            "  0%|          | 0/5 [00:00<?, ?it/s]\n"
          ]
        },
        {
          "output_type": "stream",
          "name": "stdout",
          "text": [
            "          TRD_DD           MKTCAP GDC_sig RSI_sig ROC_sig MAP_sig STC_sig\n",
            "0     2021/12/30  153,852,780,725       0       0       0       0       0\n",
            "1     2021/12/29  154,084,138,290       0       0       0       0       0\n",
            "2     2021/12/28  147,606,126,470       0       0       0       0       0\n",
            "3     2021/12/27  152,927,350,465       0       0       0       0       0\n",
            "4     2021/12/24  152,233,277,770       0       0       0       0       0\n",
            "...          ...              ...     ...     ...     ...     ...     ...\n",
            "4866  2002/04/29   16,272,000,000       0       0      -1       0       0\n",
            "4867  2002/04/26   18,480,000,000       0       0      -1       0       0\n",
            "4868  2002/04/25   21,000,000,000       0       0      -1       0       0\n",
            "4869  2002/04/24   20,424,000,000       0       0      -1       0       0\n",
            "4870  2002/04/23   18,240,000,000       0       0      -1       0       0\n",
            "\n",
            "[4871 rows x 7 columns]\n",
            "1\n",
            "KR7095570008\n"
          ]
        },
        {
          "output_type": "stream",
          "name": "stderr",
          "text": [
            "/usr/local/lib/python3.7/dist-packages/deap/creator.py:141: RuntimeWarning: A class named 'FitnessMin' has already been created and it will be overwritten. Consider deleting previous creation of that class or rename it.\n",
            "  RuntimeWarning)\n",
            "/usr/local/lib/python3.7/dist-packages/deap/creator.py:141: RuntimeWarning: A class named 'Individual' has already been created and it will be overwritten. Consider deleting previous creation of that class or rename it.\n",
            "  RuntimeWarning)\n",
            " 20%|██        | 1/5 [00:59<03:59, 59.92s/it]"
          ]
        },
        {
          "output_type": "stream",
          "name": "stdout",
          "text": [
            "\n",
            " HALL OF FAME:\n",
            "  0: [142, 181], Fitness: -0.000108868421626\n",
            "  1: [90, 192], Fitness: -3.3453822852e-05\n",
            "  2: [20, 180], Fitness: -2.8184038956e-05\n"
          ]
        },
        {
          "output_type": "stream",
          "name": "stderr",
          "text": [
            "\r 40%|████      | 2/5 [01:37<02:20, 46.91s/it]"
          ]
        },
        {
          "output_type": "stream",
          "name": "stdout",
          "text": [
            "\n",
            " HALL OF FAME:\n",
            "  0: [142, 181], Fitness: -0.000108868421626\n",
            "  1: [90, 192], Fitness: -3.3453822852e-05\n",
            "  2: [20, 180], Fitness: -2.8184038956e-05\n"
          ]
        },
        {
          "output_type": "stream",
          "name": "stderr",
          "text": [
            "\r 60%|██████    | 3/5 [02:14<01:24, 42.26s/it]"
          ]
        },
        {
          "output_type": "stream",
          "name": "stdout",
          "text": [
            "\n",
            " HALL OF FAME:\n",
            "  0: [34, 129], Fitness: -0.00013092432574\n",
            "  1: [142, 181], Fitness: -0.000108868421626\n",
            "  2: [142, 152], Fitness: -4.2617207976e-05\n"
          ]
        },
        {
          "output_type": "stream",
          "name": "stderr",
          "text": [
            "\r 80%|████████  | 4/5 [02:56<00:42, 42.27s/it]"
          ]
        },
        {
          "output_type": "stream",
          "name": "stdout",
          "text": [
            "\n",
            " HALL OF FAME:\n",
            "  0: [34, 129], Fitness: -0.00013092432574\n",
            "  1: [78, 192], Fitness: -0.000109961705836\n",
            "  2: [142, 181], Fitness: -0.000108868421626\n"
          ]
        },
        {
          "output_type": "stream",
          "name": "stderr",
          "text": [
            "100%|██████████| 5/5 [03:33<00:00, 42.71s/it]\n"
          ]
        },
        {
          "output_type": "stream",
          "name": "stdout",
          "text": [
            "\n",
            " HALL OF FAME:\n",
            "  0: [34, 192], Fitness: -0.000281850914959\n",
            "  1: [34, 129], Fitness: -0.00013092432574\n",
            "  2: [78, 192], Fitness: -0.000109961705836\n",
            "Time Elapsed: 213.57\n",
            "**GDC 파라미터 값:  [34, 192]\n",
            "\n",
            "\n"
          ]
        },
        {
          "output_type": "stream",
          "name": "stderr",
          "text": [
            " 20%|██        | 1/5 [00:58<03:52, 58.22s/it]"
          ]
        },
        {
          "output_type": "stream",
          "name": "stdout",
          "text": [
            "\n",
            " HALL OF FAME:\n",
            "  0: [86], Fitness: -0.010669511869835\n",
            "  1: [70], Fitness: -0.002106704587349\n",
            "  2: [77], Fitness: -0.002106704587349\n"
          ]
        },
        {
          "output_type": "stream",
          "name": "stderr",
          "text": [
            "\r 40%|████      | 2/5 [01:36<02:18, 46.29s/it]"
          ]
        },
        {
          "output_type": "stream",
          "name": "stdout",
          "text": [
            "\n",
            " HALL OF FAME:\n",
            "  0: [86], Fitness: -0.010669511869835\n",
            "  1: [70], Fitness: -0.002106704587349\n",
            "  2: [77], Fitness: -0.002106704587349\n"
          ]
        },
        {
          "output_type": "stream",
          "name": "stderr",
          "text": [
            "\r 60%|██████    | 3/5 [02:12<01:23, 41.53s/it]"
          ]
        },
        {
          "output_type": "stream",
          "name": "stdout",
          "text": [
            "\n",
            " HALL OF FAME:\n",
            "  0: [86], Fitness: -0.010669511869835\n",
            "  1: [70], Fitness: -0.002106704587349\n",
            "  2: [77], Fitness: -0.002106704587349\n"
          ]
        },
        {
          "output_type": "stream",
          "name": "stderr",
          "text": [
            "\r 80%|████████  | 4/5 [02:53<00:41, 41.49s/it]"
          ]
        },
        {
          "output_type": "stream",
          "name": "stdout",
          "text": [
            "\n",
            " HALL OF FAME:\n",
            "  0: [86], Fitness: -0.010669511869835\n",
            "  1: [70], Fitness: -0.002106704587349\n",
            "  2: [77], Fitness: -0.002106704587349\n"
          ]
        },
        {
          "output_type": "stream",
          "name": "stderr",
          "text": [
            "100%|██████████| 5/5 [03:36<00:00, 43.20s/it]\n"
          ]
        },
        {
          "output_type": "stream",
          "name": "stdout",
          "text": [
            "\n",
            " HALL OF FAME:\n",
            "  0: [86], Fitness: -0.010669511869835\n",
            "  1: [70], Fitness: -0.002106704587349\n",
            "  2: [77], Fitness: -0.002106704587349\n",
            "Time Elapsed: 216.02\n",
            "RSI 파라미터 값:  [86]\n",
            "\n",
            "\n"
          ]
        },
        {
          "output_type": "stream",
          "name": "stderr",
          "text": [
            " 20%|██        | 1/5 [00:59<03:58, 59.53s/it]"
          ]
        },
        {
          "output_type": "stream",
          "name": "stdout",
          "text": [
            "\n",
            " HALL OF FAME:\n",
            "  0: [47], Fitness: -0.001162098168243\n",
            "  1: [86], Fitness: -0.000587539750736\n",
            "  2: [81], Fitness: -0.000396241647969\n"
          ]
        },
        {
          "output_type": "stream",
          "name": "stderr",
          "text": [
            "\r 40%|████      | 2/5 [01:38<02:22, 47.58s/it]"
          ]
        },
        {
          "output_type": "stream",
          "name": "stdout",
          "text": [
            "\n",
            " HALL OF FAME:\n",
            "  0: [47], Fitness: -0.001162098168243\n",
            "  1: [86], Fitness: -0.000587539750736\n",
            "  2: [136], Fitness: -0.00051877982984\n"
          ]
        },
        {
          "output_type": "stream",
          "name": "stderr",
          "text": [
            "\r 60%|██████    | 3/5 [02:15<01:24, 42.41s/it]"
          ]
        },
        {
          "output_type": "stream",
          "name": "stdout",
          "text": [
            "\n",
            " HALL OF FAME:\n",
            "  0: [111], Fitness: -0.002529324354233\n",
            "  1: [47], Fitness: -0.001162098168243\n",
            "  2: [86], Fitness: -0.000587539750736\n"
          ]
        },
        {
          "output_type": "stream",
          "name": "stderr",
          "text": [
            "\r 80%|████████  | 4/5 [02:56<00:42, 42.22s/it]"
          ]
        },
        {
          "output_type": "stream",
          "name": "stdout",
          "text": [
            "\n",
            " HALL OF FAME:\n",
            "  0: [111], Fitness: -0.002529324354233\n",
            "  1: [47], Fitness: -0.001162098168243\n",
            "  2: [51], Fitness: -0.000912471200128\n"
          ]
        },
        {
          "output_type": "stream",
          "name": "stderr",
          "text": [
            "100%|██████████| 5/5 [03:39<00:00, 43.92s/it]\n"
          ]
        },
        {
          "output_type": "stream",
          "name": "stdout",
          "text": [
            "\n",
            " HALL OF FAME:\n",
            "  0: [111], Fitness: -0.002529324354233\n",
            "  1: [47], Fitness: -0.001162098168243\n",
            "  2: [51], Fitness: -0.000912471200128\n",
            "Time Elapsed: 219.60\n",
            "**ROC 파라미터 값:  [111]\n"
          ]
        },
        {
          "output_type": "stream",
          "name": "stderr",
          "text": [
            " 20%|██        | 1/5 [00:59<03:58, 59.54s/it]"
          ]
        },
        {
          "output_type": "stream",
          "name": "stdout",
          "text": [
            "\n",
            " HALL OF FAME:\n",
            "  0: [1, 0.05307882818821648, 0.06601110251245851], Fitness: 4.736306155e-06\n",
            "  1: [1, 0.06825248518545517, 0.07370687502665957], Fitness: 4.736306155e-06\n",
            "  2: [2, 0.08153585863566706, 0.08949823724626457], Fitness: 5.941020519e-06\n"
          ]
        },
        {
          "output_type": "stream",
          "name": "stderr",
          "text": [
            "\r 40%|████      | 2/5 [01:36<02:17, 45.99s/it]"
          ]
        },
        {
          "output_type": "stream",
          "name": "stdout",
          "text": [
            "\n",
            " HALL OF FAME:\n",
            "  0: [1, 0.05307882818821648, 0.052423072145831896], Fitness: 4.736306155e-06\n",
            "  1: [1, 0.05307882818821648, 0.06601110251245851], Fitness: 4.736306155e-06\n",
            "  2: [1, 0.06825248518545517, 0.07370687502665957], Fitness: 4.736306155e-06\n"
          ]
        },
        {
          "output_type": "stream",
          "name": "stderr",
          "text": [
            "\r 60%|██████    | 3/5 [02:20<01:31, 45.51s/it]"
          ]
        },
        {
          "output_type": "stream",
          "name": "stdout",
          "text": [
            "\n",
            " HALL OF FAME:\n",
            "  0: [1, 0.05307882818821648, 0.052423072145831896], Fitness: 4.736306155e-06\n",
            "  1: [1, 0.05307882818821648, 0.06601110251245851], Fitness: 4.736306155e-06\n",
            "  2: [1, 0.06825248518545517, 0.07370687502665957], Fitness: 4.736306155e-06\n"
          ]
        },
        {
          "output_type": "stream",
          "name": "stderr",
          "text": [
            "\r 80%|████████  | 4/5 [02:58<00:42, 42.42s/it]"
          ]
        },
        {
          "output_type": "stream",
          "name": "stdout",
          "text": [
            "\n",
            " HALL OF FAME:\n",
            "  0: [1, 0.05307882818821648, 0.052423072145831896], Fitness: 4.736306155e-06\n",
            "  1: [1, 0.05307882818821648, 0.06601110251245851], Fitness: 4.736306155e-06\n",
            "  2: [1, 0.06825248518545517, 0.07370687502665957], Fitness: 4.736306155e-06\n"
          ]
        },
        {
          "output_type": "stream",
          "name": "stderr",
          "text": [
            "100%|██████████| 5/5 [03:36<00:00, 43.23s/it]\n"
          ]
        },
        {
          "output_type": "stream",
          "name": "stdout",
          "text": [
            "\n",
            " HALL OF FAME:\n",
            "  0: [1, 0.05307882818821648, 0.052423072145831896], Fitness: 4.736306155e-06\n",
            "  1: [1, 0.05307882818821648, 0.06601110251245851], Fitness: 4.736306155e-06\n",
            "  2: [1, 0.06825248518545517, 0.07370687502665957], Fitness: 4.736306155e-06\n",
            "Time Elapsed: 216.17\n",
            "**MAP 파라미터 값:  [1, 0.05307882818821648, 0.052423072145831896]\n"
          ]
        },
        {
          "output_type": "stream",
          "name": "stderr",
          "text": [
            "  0%|          | 0/5 [00:00<?, ?it/s]\n"
          ]
        },
        {
          "output_type": "stream",
          "name": "stdout",
          "text": [
            "          TRD_DD           MKTCAP GDC_sig RSI_sig ROC_sig MAP_sig STC_sig\n",
            "0     2021/12/30  253,308,615,950       0       0       0       0       0\n",
            "1     2021/12/29  255,649,730,700       0       0       0       0       0\n",
            "2     2021/12/28  258,459,068,400       0       0       0       0       0\n",
            "3     2021/12/27  257,990,845,450       0       0       0       0       0\n",
            "4     2021/12/24  256,586,176,600       0       0       0       0       0\n",
            "...          ...              ...     ...     ...     ...     ...     ...\n",
            "1560  2015/08/27  354,444,773,150       0       0       1       0       0\n",
            "1561  2015/08/26  331,970,071,550       0       0       1       0       0\n",
            "1562  2015/08/25  291,234,674,900       0       0       1       0       0\n",
            "1563  2015/08/24  303,408,471,600       0       0       1       0       0\n",
            "1564  2015/08/21  332,438,294,500       0       0       1       0       0\n",
            "\n",
            "[1565 rows x 7 columns]\n",
            "2\n",
            "KR7006840003\n"
          ]
        },
        {
          "output_type": "stream",
          "name": "stderr",
          "text": [
            "/usr/local/lib/python3.7/dist-packages/deap/creator.py:141: RuntimeWarning: A class named 'FitnessMin' has already been created and it will be overwritten. Consider deleting previous creation of that class or rename it.\n",
            "  RuntimeWarning)\n",
            "/usr/local/lib/python3.7/dist-packages/deap/creator.py:141: RuntimeWarning: A class named 'Individual' has already been created and it will be overwritten. Consider deleting previous creation of that class or rename it.\n",
            "  RuntimeWarning)\n",
            " 20%|██        | 1/5 [03:34<14:17, 214.39s/it]"
          ]
        },
        {
          "output_type": "stream",
          "name": "stdout",
          "text": [
            "\n",
            " HALL OF FAME:\n",
            "  0: [37, 166], Fitness: -7.6838111703e-05\n",
            "  1: [86, 250], Fitness: -3.4431111953e-05\n",
            "  2: [95, 238], Fitness: -1.3612086171e-05\n"
          ]
        },
        {
          "output_type": "stream",
          "name": "stderr",
          "text": [
            "\r 40%|████      | 2/5 [05:48<08:21, 167.00s/it]"
          ]
        },
        {
          "output_type": "stream",
          "name": "stdout",
          "text": [
            "\n",
            " HALL OF FAME:\n",
            "  0: [37, 166], Fitness: -7.6838111703e-05\n",
            "  1: [86, 250], Fitness: -3.4431111953e-05\n",
            "  2: [82, 195], Fitness: -2.5325672317e-05\n"
          ]
        },
        {
          "output_type": "stream",
          "name": "stderr",
          "text": [
            "\r 60%|██████    | 3/5 [08:01<05:03, 151.59s/it]"
          ]
        },
        {
          "output_type": "stream",
          "name": "stdout",
          "text": [
            "\n",
            " HALL OF FAME:\n",
            "  0: [37, 166], Fitness: -7.6838111703e-05\n",
            "  1: [86, 250], Fitness: -3.4431111953e-05\n",
            "  2: [82, 195], Fitness: -2.5325672317e-05\n"
          ]
        },
        {
          "output_type": "stream",
          "name": "stderr",
          "text": [
            "\r 80%|████████  | 4/5 [10:33<02:31, 151.79s/it]"
          ]
        },
        {
          "output_type": "stream",
          "name": "stdout",
          "text": [
            "\n",
            " HALL OF FAME:\n",
            "  0: [37, 166], Fitness: -7.6838111703e-05\n",
            "  1: [86, 250], Fitness: -3.4431111953e-05\n",
            "  2: [82, 195], Fitness: -2.5325672317e-05\n"
          ]
        },
        {
          "output_type": "stream",
          "name": "stderr",
          "text": [
            "100%|██████████| 5/5 [12:44<00:00, 152.81s/it]\n"
          ]
        },
        {
          "output_type": "stream",
          "name": "stdout",
          "text": [
            "\n",
            " HALL OF FAME:\n",
            "  0: [37, 166], Fitness: -7.6838111703e-05\n",
            "  1: [86, 250], Fitness: -3.4431111953e-05\n",
            "  2: [82, 195], Fitness: -2.5325672317e-05\n",
            "Time Elapsed: 764.06\n",
            "**GDC 파라미터 값:  [37, 166]\n",
            "\n",
            "\n"
          ]
        },
        {
          "output_type": "stream",
          "name": "stderr",
          "text": [
            " 20%|██        | 1/5 [03:17<13:09, 197.42s/it]"
          ]
        },
        {
          "output_type": "stream",
          "name": "stdout",
          "text": [
            "\n",
            " HALL OF FAME:\n",
            "  0: [6], Fitness: -0.000108605639348\n",
            "  1: [31], Fitness: -9.4280697206e-05\n",
            "  2: [30], Fitness: -8.189588985e-05\n"
          ]
        },
        {
          "output_type": "stream",
          "name": "stderr",
          "text": [
            "\r 40%|████      | 2/5 [05:27<07:53, 157.89s/it]"
          ]
        },
        {
          "output_type": "stream",
          "name": "stdout",
          "text": [
            "\n",
            " HALL OF FAME:\n",
            "  0: [6], Fitness: -0.000108605639348\n",
            "  1: [31], Fitness: -9.4280697206e-05\n",
            "  2: [30], Fitness: -8.189588985e-05\n"
          ]
        },
        {
          "output_type": "stream",
          "name": "stderr",
          "text": [
            "\r 60%|██████    | 3/5 [07:30<04:44, 142.06s/it]"
          ]
        },
        {
          "output_type": "stream",
          "name": "stdout",
          "text": [
            "\n",
            " HALL OF FAME:\n",
            "  0: [6], Fitness: -0.000108605639348\n",
            "  1: [31], Fitness: -9.4280697206e-05\n",
            "  2: [30], Fitness: -8.189588985e-05\n"
          ]
        },
        {
          "output_type": "stream",
          "name": "stderr",
          "text": [
            "\r 80%|████████  | 4/5 [09:54<02:22, 142.51s/it]"
          ]
        },
        {
          "output_type": "stream",
          "name": "stdout",
          "text": [
            "\n",
            " HALL OF FAME:\n",
            "  0: [22], Fitness: -0.000124470998257\n",
            "  1: [6], Fitness: -0.000108605639348\n",
            "  2: [31], Fitness: -9.4280697206e-05\n"
          ]
        },
        {
          "output_type": "stream",
          "name": "stderr",
          "text": [
            "100%|██████████| 5/5 [12:19<00:00, 147.90s/it]\n"
          ]
        },
        {
          "output_type": "stream",
          "name": "stdout",
          "text": [
            "\n",
            " HALL OF FAME:\n",
            "  0: [22], Fitness: -0.000124470998257\n",
            "  1: [6], Fitness: -0.000108605639348\n",
            "  2: [31], Fitness: -9.4280697206e-05\n",
            "Time Elapsed: 739.54\n",
            "RSI 파라미터 값:  [22]\n",
            "\n",
            "\n"
          ]
        },
        {
          "output_type": "stream",
          "name": "stderr",
          "text": [
            " 20%|██        | 1/5 [03:33<14:15, 213.91s/it]"
          ]
        },
        {
          "output_type": "stream",
          "name": "stdout",
          "text": [
            "\n",
            " HALL OF FAME:\n",
            "  0: [81], Fitness: -0.000338653007662\n",
            "  1: [67], Fitness: -0.000316643578072\n",
            "  2: [90], Fitness: -0.0002185493785\n"
          ]
        },
        {
          "output_type": "stream",
          "name": "stderr",
          "text": [
            "\r 40%|████      | 2/5 [05:54<08:32, 170.72s/it]"
          ]
        },
        {
          "output_type": "stream",
          "name": "stdout",
          "text": [
            "\n",
            " HALL OF FAME:\n",
            "  0: [81], Fitness: -0.000338653007662\n",
            "  1: [67], Fitness: -0.000316643578072\n",
            "  2: [90], Fitness: -0.0002185493785\n"
          ]
        },
        {
          "output_type": "stream",
          "name": "stderr",
          "text": [
            "\r 60%|██████    | 3/5 [08:04<05:04, 152.24s/it]"
          ]
        },
        {
          "output_type": "stream",
          "name": "stdout",
          "text": [
            "\n",
            " HALL OF FAME:\n",
            "  0: [81], Fitness: -0.000338653007662\n",
            "  1: [67], Fitness: -0.000316643578072\n",
            "  2: [90], Fitness: -0.0002185493785\n"
          ]
        },
        {
          "output_type": "stream",
          "name": "stderr",
          "text": [
            "\r 80%|████████  | 4/5 [10:35<02:31, 151.64s/it]"
          ]
        },
        {
          "output_type": "stream",
          "name": "stdout",
          "text": [
            "\n",
            " HALL OF FAME:\n",
            "  0: [148], Fitness: -0.000541015757084\n",
            "  1: [81], Fitness: -0.000338653007662\n",
            "  2: [67], Fitness: -0.000316643578072\n"
          ]
        },
        {
          "output_type": "stream",
          "name": "stderr",
          "text": [
            "100%|██████████| 5/5 [13:09<00:00, 157.89s/it]\n"
          ]
        },
        {
          "output_type": "stream",
          "name": "stdout",
          "text": [
            "\n",
            " HALL OF FAME:\n",
            "  0: [148], Fitness: -0.000541015757084\n",
            "  1: [81], Fitness: -0.000338653007662\n",
            "  2: [67], Fitness: -0.000316643578072\n",
            "Time Elapsed: 789.44\n",
            "**ROC 파라미터 값:  [148]\n"
          ]
        },
        {
          "output_type": "stream",
          "name": "stderr",
          "text": [
            " 20%|██        | 1/5 [03:30<14:01, 210.46s/it]"
          ]
        },
        {
          "output_type": "stream",
          "name": "stdout",
          "text": [
            "\n",
            " HALL OF FAME:\n",
            "  0: [4, 0.06908789986716253, 0.08129300447147134], Fitness: 1.115543537e-06\n",
            "  1: [6, 0.06679084735165008, 25], Fitness: 1.280368746e-06\n",
            "  2: [7, 0.052736667538527536, 122], Fitness: 1.280368746e-06\n"
          ]
        },
        {
          "output_type": "stream",
          "name": "stderr",
          "text": [
            "\r 40%|████      | 2/5 [05:37<08:03, 161.20s/it]"
          ]
        },
        {
          "output_type": "stream",
          "name": "stdout",
          "text": [
            "\n",
            " HALL OF FAME:\n",
            "  0: [4, 0.050887298759632396, 0.08129300447147134], Fitness: 1.115543537e-06\n",
            "  1: [4, 0.060597218630040285, 0.08129300447147134], Fitness: 1.115543537e-06\n",
            "  2: [4, 0.06908789986716253, 0.08129300447147134], Fitness: 1.115543537e-06\n"
          ]
        },
        {
          "output_type": "stream",
          "name": "stderr",
          "text": [
            "\r 60%|██████    | 3/5 [08:16<05:20, 160.47s/it]"
          ]
        },
        {
          "output_type": "stream",
          "name": "stdout",
          "text": [
            "\n",
            " HALL OF FAME:\n",
            "  0: [4, 0.050887298759632396, 0.08129300447147134], Fitness: 1.115543537e-06\n",
            "  1: [4, 0.060597218630040285, 0.08129300447147134], Fitness: 1.115543537e-06\n",
            "  2: [4, 0.06908789986716253, 0.08129300447147134], Fitness: 1.115543537e-06\n"
          ]
        },
        {
          "output_type": "stream",
          "name": "stderr",
          "text": [
            "\r 80%|████████  | 4/5 [10:31<02:30, 150.11s/it]"
          ]
        },
        {
          "output_type": "stream",
          "name": "stdout",
          "text": [
            "\n",
            " HALL OF FAME:\n",
            "  0: [4, 0.050887298759632396, 0.08129300447147134], Fitness: 1.115543537e-06\n",
            "  1: [4, 0.060597218630040285, 0.08129300447147134], Fitness: 1.115543537e-06\n",
            "  2: [4, 0.06908789986716253, 0.08129300447147134], Fitness: 1.115543537e-06\n"
          ]
        },
        {
          "output_type": "stream",
          "name": "stderr",
          "text": [
            "100%|██████████| 5/5 [12:44<00:00, 152.91s/it]\n"
          ]
        },
        {
          "output_type": "stream",
          "name": "stdout",
          "text": [
            "\n",
            " HALL OF FAME:\n",
            "  0: [4, 0.050887298759632396, 0.08129300447147134], Fitness: 1.115543537e-06\n",
            "  1: [4, 0.060597218630040285, 0.08129300447147134], Fitness: 1.115543537e-06\n",
            "  2: [4, 0.06908789986716253, 0.08129300447147134], Fitness: 1.115543537e-06\n",
            "Time Elapsed: 764.58\n",
            "**MAP 파라미터 값:  [4, 0.050887298759632396, 0.08129300447147134]\n"
          ]
        },
        {
          "output_type": "stream",
          "name": "stderr",
          "text": [
            "  0%|          | 0/5 [00:03<?, ?it/s]\n"
          ]
        },
        {
          "output_type": "stream",
          "name": "stdout",
          "text": [
            "          TRD_DD           MKTCAP GDC_sig RSI_sig ROC_sig MAP_sig STC_sig\n",
            "0     2021/12/30  255,677,927,300       0       0       0       0       0\n",
            "1     2021/12/29  257,002,683,400       0       0       0       0       0\n",
            "2     2021/12/28  256,340,305,350       0       0       0       0       0\n",
            "3     2021/12/27  261,639,329,750       0       0       0       0       0\n",
            "4     2021/12/24  262,301,707,800       0       0       0       0       0\n",
            "...          ...              ...     ...     ...     ...     ...     ...\n",
            "5525  1999/08/17  135,000,000,000       0       0       1       0       0\n",
            "5526  1999/08/16  153,000,000,000       0       0       1       1       0\n",
            "5527  1999/08/13  162,000,000,000       0       0       1       1       0\n",
            "5528  1999/08/12  165,900,000,000       0       0       1       1       0\n",
            "5529  1999/08/11  195,000,000,000       0       0      -1       1       0\n",
            "\n",
            "[5530 rows x 7 columns]\n",
            "3\n",
            "KR7054620000\n"
          ]
        },
        {
          "output_type": "stream",
          "name": "stderr",
          "text": [
            "/usr/local/lib/python3.7/dist-packages/deap/creator.py:141: RuntimeWarning: A class named 'FitnessMin' has already been created and it will be overwritten. Consider deleting previous creation of that class or rename it.\n",
            "  RuntimeWarning)\n",
            "/usr/local/lib/python3.7/dist-packages/deap/creator.py:141: RuntimeWarning: A class named 'Individual' has already been created and it will be overwritten. Consider deleting previous creation of that class or rename it.\n",
            "  RuntimeWarning)\n",
            " 20%|██        | 1/5 [03:09<12:37, 189.39s/it]"
          ]
        },
        {
          "output_type": "stream",
          "name": "stdout",
          "text": [
            "\n",
            " HALL OF FAME:\n",
            "  0: [71, 224], Fitness: -0.000105309993129\n",
            "  1: [35, 206], Fitness: -5.7328519649e-05\n",
            "  2: [20, 203], Fitness: -2.9362625489e-05\n"
          ]
        },
        {
          "output_type": "stream",
          "name": "stderr",
          "text": [
            "\r 40%|████      | 2/5 [05:08<07:24, 148.23s/it]"
          ]
        },
        {
          "output_type": "stream",
          "name": "stdout",
          "text": [
            "\n",
            " HALL OF FAME:\n",
            "  0: [71, 224], Fitness: -0.000105309993129\n",
            "  1: [35, 206], Fitness: -5.7328519649e-05\n",
            "  2: [20, 203], Fitness: -2.9362625489e-05\n"
          ]
        },
        {
          "output_type": "stream",
          "name": "stderr",
          "text": [
            "\r 60%|██████    | 3/5 [07:06<04:28, 134.40s/it]"
          ]
        },
        {
          "output_type": "stream",
          "name": "stdout",
          "text": [
            "\n",
            " HALL OF FAME:\n",
            "  0: [8, 201], Fitness: -0.000168268371225\n",
            "  1: [71, 224], Fitness: -0.000105309993129\n",
            "  2: [35, 206], Fitness: -5.7328519649e-05\n"
          ]
        },
        {
          "output_type": "stream",
          "name": "stderr",
          "text": [
            "\r 80%|████████  | 4/5 [09:20<02:14, 134.20s/it]"
          ]
        },
        {
          "output_type": "stream",
          "name": "stdout",
          "text": [
            "\n",
            " HALL OF FAME:\n",
            "  0: [8, 201], Fitness: -0.000168268371225\n",
            "  1: [71, 224], Fitness: -0.000105309993129\n",
            "  2: [76, 206], Fitness: -7.7174562107e-05\n"
          ]
        },
        {
          "output_type": "stream",
          "name": "stderr",
          "text": [
            "100%|██████████| 5/5 [11:16<00:00, 135.35s/it]\n"
          ]
        },
        {
          "output_type": "stream",
          "name": "stdout",
          "text": [
            "\n",
            " HALL OF FAME:\n",
            "  0: [8, 201], Fitness: -0.000168268371225\n",
            "  1: [71, 224], Fitness: -0.000105309993129\n",
            "  2: [76, 206], Fitness: -7.7174562107e-05\n",
            "Time Elapsed: 676.74\n",
            "**GDC 파라미터 값:  [8, 201]\n",
            "\n",
            "\n"
          ]
        },
        {
          "output_type": "stream",
          "name": "stderr",
          "text": [
            "  0%|          | 0/5 [00:09<?, ?it/s]\n",
            " 20%|██        | 1/5 [03:13<12:53, 193.34s/it]"
          ]
        },
        {
          "output_type": "stream",
          "name": "stdout",
          "text": [
            "\n",
            " HALL OF FAME:\n",
            "  0: [45], Fitness: -0.000105357008809\n",
            "  1: [18], Fitness: -9.8015672706e-05\n",
            "  2: [75], Fitness: -9.1125202611e-05\n"
          ]
        },
        {
          "output_type": "stream",
          "name": "stderr",
          "text": [
            "\r 40%|████      | 2/5 [05:19<07:41, 153.84s/it]"
          ]
        },
        {
          "output_type": "stream",
          "name": "stdout",
          "text": [
            "\n",
            " HALL OF FAME:\n",
            "  0: [106], Fitness: -0.006452653653802\n",
            "  1: [136], Fitness: -0.001804036531739\n",
            "  2: [45], Fitness: -0.000105357008809\n"
          ]
        },
        {
          "output_type": "stream",
          "name": "stderr",
          "text": [
            "\r 60%|██████    | 3/5 [07:18<04:35, 137.78s/it]"
          ]
        },
        {
          "output_type": "stream",
          "name": "stdout",
          "text": [
            "\n",
            " HALL OF FAME:\n",
            "  0: [106], Fitness: -0.006452653653802\n",
            "  1: [111], Fitness: -0.003225026203331\n",
            "  2: [136], Fitness: -0.001804036531739\n"
          ]
        },
        {
          "output_type": "stream",
          "name": "stderr",
          "text": [
            "\r 80%|████████  | 4/5 [09:34<02:17, 137.24s/it]"
          ]
        },
        {
          "output_type": "stream",
          "name": "stdout",
          "text": [
            "\n",
            " HALL OF FAME:\n",
            "  0: [106], Fitness: -0.006452653653802\n",
            "  1: [111], Fitness: -0.003225026203331\n",
            "  2: [136], Fitness: -0.001804036531739\n"
          ]
        },
        {
          "output_type": "stream",
          "name": "stderr",
          "text": [
            "100%|██████████| 5/5 [11:53<00:00, 142.70s/it]\n"
          ]
        },
        {
          "output_type": "stream",
          "name": "stdout",
          "text": [
            "\n",
            " HALL OF FAME:\n",
            "  0: [106], Fitness: -0.006452653653802\n",
            "  1: [111], Fitness: -0.003225026203331\n",
            "  2: [136], Fitness: -0.001804036531739\n",
            "Time Elapsed: 713.50\n",
            "**ROC 파라미터 값:  [106]\n"
          ]
        },
        {
          "output_type": "stream",
          "name": "stderr",
          "text": [
            " 20%|██        | 1/5 [03:10<12:40, 190.02s/it]"
          ]
        },
        {
          "output_type": "stream",
          "name": "stdout",
          "text": [
            "\n",
            " HALL OF FAME:\n",
            "  0: [46, 0.0743545567115993, 0.0611569764429433], Fitness: 5.21220577e-07\n",
            "  1: [46, 0.058832126914660235, 0.054888841073106834], Fitness: 5.21220577e-07\n",
            "  2: [28, 0.05709684084771725, 0.0680440873714089], Fitness: 5.25469811e-07\n"
          ]
        },
        {
          "output_type": "stream",
          "name": "stderr",
          "text": [
            "\r 40%|████      | 2/5 [05:04<07:17, 145.79s/it]"
          ]
        },
        {
          "output_type": "stream",
          "name": "stdout",
          "text": [
            "\n",
            " HALL OF FAME:\n",
            "  0: [117, 129, 0.05007234598905517], Fitness: 5.19673595e-07\n",
            "  1: [46, 0.0743545567115993, 0.0611569764429433], Fitness: 5.21220577e-07\n",
            "  2: [46, 0.058832126914660235, 0.054888841073106834], Fitness: 5.21220577e-07\n"
          ]
        },
        {
          "output_type": "stream",
          "name": "stderr",
          "text": [
            "\r 60%|██████    | 3/5 [07:27<04:48, 144.31s/it]"
          ]
        },
        {
          "output_type": "stream",
          "name": "stdout",
          "text": [
            "\n",
            " HALL OF FAME:\n",
            "  0: [117, 0.060597218630040285, 0.05007234598905517], Fitness: 5.19673595e-07\n",
            "  1: [117, 129, 0.05007234598905517], Fitness: 5.19673595e-07\n",
            "  2: [46, 0.0743545567115993, 0.0611569764429433], Fitness: 5.21220577e-07\n"
          ]
        },
        {
          "output_type": "stream",
          "name": "stderr",
          "text": [
            "\r 80%|████████  | 4/5 [09:27<02:14, 134.78s/it]"
          ]
        },
        {
          "output_type": "stream",
          "name": "stdout",
          "text": [
            "\n",
            " HALL OF FAME:\n",
            "  0: [117, 0.06507004870784569, 0.07076059906583013], Fitness: 5.19673595e-07\n",
            "  1: [117, 0.060597218630040285, 0.05007234598905517], Fitness: 5.19673595e-07\n",
            "  2: [117, 129, 0.05007234598905517], Fitness: 5.19673595e-07\n"
          ]
        },
        {
          "output_type": "stream",
          "name": "stderr",
          "text": [
            "100%|██████████| 5/5 [11:27<00:00, 137.49s/it]\n"
          ]
        },
        {
          "output_type": "stream",
          "name": "stdout",
          "text": [
            "\n",
            " HALL OF FAME:\n",
            "  0: [117, 0.06507004870784569, 0.07076059906583013], Fitness: 5.19673595e-07\n",
            "  1: [117, 0.060597218630040285, 0.05007234598905517], Fitness: 5.19673595e-07\n",
            "  2: [117, 129, 0.05007234598905517], Fitness: 5.19673595e-07\n",
            "Time Elapsed: 687.47\n",
            "**MAP 파라미터 값:  [117, 0.06507004870784569, 0.07076059906583013]\n"
          ]
        },
        {
          "output_type": "stream",
          "name": "stderr",
          "text": [
            "  0%|          | 0/5 [00:02<?, ?it/s]\n"
          ]
        },
        {
          "output_type": "stream",
          "name": "stdout",
          "text": [
            "          TRD_DD           MKTCAP GDC_sig RSI_sig ROC_sig MAP_sig STC_sig\n",
            "0     2021/12/30  302,854,181,850       0       0       0       0       0\n",
            "1     2021/12/29  312,031,581,300       0       0       0       0       0\n",
            "2     2021/12/28  271,243,139,300       0       0       0       0       0\n",
            "3     2021/12/27  265,124,873,000       0       0       0       0       0\n",
            "4     2021/12/24  271,243,139,300       0       0       0       0       0\n",
            "...          ...              ...     ...     ...     ...     ...     ...\n",
            "4958  2001/12/10   41,451,000,000       0       1      -1       1       0\n",
            "4959  2001/12/07   37,023,000,000       0       0      -1       1       0\n",
            "4960  2001/12/06   33,087,000,000       0       0      -1       1       0\n",
            "4961  2001/12/05   29,643,000,000       0       0      -1       1       0\n",
            "4962  2001/12/04   26,568,000,000       0       0      -1       1       0\n",
            "\n",
            "[4963 rows x 7 columns]\n",
            "4\n",
            "KR7265520007\n"
          ]
        },
        {
          "output_type": "stream",
          "name": "stderr",
          "text": [
            "/usr/local/lib/python3.7/dist-packages/deap/creator.py:141: RuntimeWarning: A class named 'FitnessMin' has already been created and it will be overwritten. Consider deleting previous creation of that class or rename it.\n",
            "  RuntimeWarning)\n",
            "/usr/local/lib/python3.7/dist-packages/deap/creator.py:141: RuntimeWarning: A class named 'Individual' has already been created and it will be overwritten. Consider deleting previous creation of that class or rename it.\n",
            "  RuntimeWarning)\n",
            " 20%|██        | 1/5 [00:45<03:01, 45.37s/it]"
          ]
        },
        {
          "output_type": "stream",
          "name": "stdout",
          "text": [
            "\n",
            " HALL OF FAME:\n",
            "  0: [75, 159], Fitness: -2.287760197e-05\n",
            "  1: [95, 238], Fitness: -2.0807324178e-05\n",
            "  2: [3, 193], Fitness: -1.3459516299e-05\n"
          ]
        },
        {
          "output_type": "stream",
          "name": "stderr",
          "text": [
            "\r 40%|████      | 2/5 [01:13<01:46, 35.48s/it]"
          ]
        },
        {
          "output_type": "stream",
          "name": "stdout",
          "text": [
            "\n",
            " HALL OF FAME:\n",
            "  0: [90, 191], Fitness: -3.1562916729e-05\n",
            "  1: [75, 159], Fitness: -2.287760197e-05\n",
            "  2: [95, 238], Fitness: -2.0807324178e-05\n"
          ]
        },
        {
          "output_type": "stream",
          "name": "stderr",
          "text": [
            "\r 60%|██████    | 3/5 [01:41<01:04, 32.07s/it]"
          ]
        },
        {
          "output_type": "stream",
          "name": "stdout",
          "text": [
            "\n",
            " HALL OF FAME:\n",
            "  0: [67, 156], Fitness: -5.9325176122e-05\n",
            "  1: [90, 191], Fitness: -3.1562916729e-05\n",
            "  2: [75, 159], Fitness: -2.287760197e-05\n"
          ]
        },
        {
          "output_type": "stream",
          "name": "stderr",
          "text": [
            "\r 80%|████████  | 4/5 [02:13<00:32, 32.02s/it]"
          ]
        },
        {
          "output_type": "stream",
          "name": "stdout",
          "text": [
            "\n",
            " HALL OF FAME:\n",
            "  0: [67, 156], Fitness: -5.9325176122e-05\n",
            "  1: [67, 82], Fitness: -4.1682297528e-05\n",
            "  2: [90, 191], Fitness: -3.1562916729e-05\n"
          ]
        },
        {
          "output_type": "stream",
          "name": "stderr",
          "text": [
            "100%|██████████| 5/5 [02:41<00:00, 32.32s/it]\n"
          ]
        },
        {
          "output_type": "stream",
          "name": "stdout",
          "text": [
            "\n",
            " HALL OF FAME:\n",
            "  0: [67, 156], Fitness: -5.9325176122e-05\n",
            "  1: [67, 82], Fitness: -4.1682297528e-05\n",
            "  2: [90, 191], Fitness: -3.1562916729e-05\n",
            "Time Elapsed: 161.61\n",
            "**GDC 파라미터 값:  [67, 156]\n",
            "\n",
            "\n"
          ]
        },
        {
          "output_type": "stream",
          "name": "stderr",
          "text": [
            " 20%|██        | 1/5 [00:41<02:47, 41.96s/it]"
          ]
        },
        {
          "output_type": "stream",
          "name": "stdout",
          "text": [
            "\n",
            " HALL OF FAME:\n",
            "  0: [9], Fitness: -0.000490586864537\n",
            "  1: [14], Fitness: -0.000289383251944\n",
            "  2: [20], Fitness: 6.2194856485e-05\n"
          ]
        },
        {
          "output_type": "stream",
          "name": "stderr",
          "text": [
            "\r 40%|████      | 2/5 [01:09<01:40, 33.58s/it]"
          ]
        },
        {
          "output_type": "stream",
          "name": "stdout",
          "text": [
            "\n",
            " HALL OF FAME:\n",
            "  0: [9], Fitness: -0.000490586864537\n",
            "  1: [14], Fitness: -0.000289383251944\n",
            "  2: [20], Fitness: 6.2194856485e-05\n"
          ]
        },
        {
          "output_type": "stream",
          "name": "stderr",
          "text": [
            "\r 60%|██████    | 3/5 [01:36<01:00, 30.36s/it]"
          ]
        },
        {
          "output_type": "stream",
          "name": "stdout",
          "text": [
            "\n",
            " HALL OF FAME:\n",
            "  0: [9], Fitness: -0.000490586864537\n",
            "  1: [14], Fitness: -0.000289383251944\n",
            "  2: [20], Fitness: 6.2194856485e-05\n"
          ]
        },
        {
          "output_type": "stream",
          "name": "stderr",
          "text": [
            "\r 80%|████████  | 4/5 [02:07<00:30, 30.59s/it]"
          ]
        },
        {
          "output_type": "stream",
          "name": "stdout",
          "text": [
            "\n",
            " HALL OF FAME:\n",
            "  0: [9], Fitness: -0.000490586864537\n",
            "  1: [14], Fitness: -0.000289383251944\n",
            "  2: [20], Fitness: 6.2194856485e-05\n"
          ]
        },
        {
          "output_type": "stream",
          "name": "stderr",
          "text": [
            "100%|██████████| 5/5 [02:39<00:00, 31.83s/it]\n"
          ]
        },
        {
          "output_type": "stream",
          "name": "stdout",
          "text": [
            "\n",
            " HALL OF FAME:\n",
            "  0: [9], Fitness: -0.000490586864537\n",
            "  1: [14], Fitness: -0.000289383251944\n",
            "  2: [7], Fitness: 4.2774572655e-05\n",
            "Time Elapsed: 159.15\n",
            "RSI 파라미터 값:  [9]\n",
            "\n",
            "\n"
          ]
        },
        {
          "output_type": "stream",
          "name": "stderr",
          "text": [
            " 20%|██        | 1/5 [00:44<02:59, 44.92s/it]"
          ]
        },
        {
          "output_type": "stream",
          "name": "stdout",
          "text": [
            "\n",
            " HALL OF FAME:\n",
            "  0: [47], Fitness: -0.027681660899654\n",
            "  1: [77], Fitness: -0.000532233384339\n",
            "  2: [86], Fitness: -0.000148593929938\n"
          ]
        },
        {
          "output_type": "stream",
          "name": "stderr",
          "text": [
            "\r 40%|████      | 2/5 [01:13<01:46, 35.58s/it]"
          ]
        },
        {
          "output_type": "stream",
          "name": "stdout",
          "text": [
            "\n",
            " HALL OF FAME:\n",
            "  0: [47], Fitness: -0.027681660899654\n",
            "  1: [77], Fitness: -0.000532233384339\n",
            "  2: [86], Fitness: -0.000148593929938\n"
          ]
        },
        {
          "output_type": "stream",
          "name": "stderr",
          "text": [
            "\r 60%|██████    | 3/5 [01:41<01:03, 31.76s/it]"
          ]
        },
        {
          "output_type": "stream",
          "name": "stdout",
          "text": [
            "\n",
            " HALL OF FAME:\n",
            "  0: [47], Fitness: -0.027681660899654\n",
            "  1: [77], Fitness: -0.000532233384339\n",
            "  2: [86], Fitness: -0.000148593929938\n"
          ]
        },
        {
          "output_type": "stream",
          "name": "stderr",
          "text": [
            "\r 80%|████████  | 4/5 [02:12<00:31, 31.68s/it]"
          ]
        },
        {
          "output_type": "stream",
          "name": "stdout",
          "text": [
            "\n",
            " HALL OF FAME:\n",
            "  0: [47], Fitness: -0.027681660899654\n",
            "  1: [77], Fitness: -0.000532233384339\n",
            "  2: [79], Fitness: -0.000161815570703\n"
          ]
        },
        {
          "output_type": "stream",
          "name": "stderr",
          "text": [
            "100%|██████████| 5/5 [02:45<00:00, 33.13s/it]\n"
          ]
        },
        {
          "output_type": "stream",
          "name": "stdout",
          "text": [
            "\n",
            " HALL OF FAME:\n",
            "  0: [47], Fitness: -0.027681660899654\n",
            "  1: [77], Fitness: -0.000532233384339\n",
            "  2: [122], Fitness: -0.000167809871416\n",
            "Time Elapsed: 165.67\n",
            "**ROC 파라미터 값:  [47]\n"
          ]
        },
        {
          "output_type": "stream",
          "name": "stderr",
          "text": [
            " 20%|██        | 1/5 [00:44<02:59, 44.81s/it]"
          ]
        },
        {
          "output_type": "stream",
          "name": "stdout",
          "text": [
            "\n",
            " HALL OF FAME:\n",
            "  0: [150, 0.06753722930245548, 8], Fitness: 1.501426543e-06\n",
            "  1: [83, 0.08523621228989432, 0.07477328161754691], Fitness: 1.680651084e-06\n",
            "  2: [92, 1, 24], Fitness: 1.687083185e-06\n"
          ]
        },
        {
          "output_type": "stream",
          "name": "stderr",
          "text": [
            "\r 40%|████      | 2/5 [01:11<01:42, 34.13s/it]"
          ]
        },
        {
          "output_type": "stream",
          "name": "stdout",
          "text": [
            "\n",
            " HALL OF FAME:\n",
            "  0: [150, 0.06753722930245548, 8], Fitness: 1.501426543e-06\n",
            "  1: [124, 25, 39], Fitness: 1.503547432e-06\n",
            "  2: [142, 0.05307882818821648, 0.0834987632838584], Fitness: 1.510292264e-06\n"
          ]
        },
        {
          "output_type": "stream",
          "name": "stderr",
          "text": [
            "\r 60%|██████    | 3/5 [01:44<01:07, 33.70s/it]"
          ]
        },
        {
          "output_type": "stream",
          "name": "stdout",
          "text": [
            "\n",
            " HALL OF FAME:\n",
            "  0: [150, 0.06753722930245548, 8], Fitness: 1.501426543e-06\n",
            "  1: [124, 25, 0.07008480027019726], Fitness: 1.503547432e-06\n",
            "  2: [124, 25, 39], Fitness: 1.503547432e-06\n"
          ]
        },
        {
          "output_type": "stream",
          "name": "stderr",
          "text": [
            "\r 80%|████████  | 4/5 [02:12<00:31, 31.41s/it]"
          ]
        },
        {
          "output_type": "stream",
          "name": "stdout",
          "text": [
            "\n",
            " HALL OF FAME:\n",
            "  0: [150, 0.06753722930245548, 8], Fitness: 1.501426543e-06\n",
            "  1: [124, 25, 0.07008480027019726], Fitness: 1.503547432e-06\n",
            "  2: [124, 25, 39], Fitness: 1.503547432e-06\n"
          ]
        },
        {
          "output_type": "stream",
          "name": "stderr",
          "text": [
            "100%|██████████| 5/5 [02:40<00:00, 32.11s/it]\n"
          ]
        },
        {
          "output_type": "stream",
          "name": "stdout",
          "text": [
            "\n",
            " HALL OF FAME:\n",
            "  0: [150, 0.06753722930245548, 8], Fitness: 1.501426543e-06\n",
            "  1: [124, 25, 0.07008480027019726], Fitness: 1.503547432e-06\n",
            "  2: [124, 25, 39], Fitness: 1.503547432e-06\n",
            "Time Elapsed: 160.58\n",
            "**MAP 파라미터 값:  [150, 0.06753722930245548, 8]\n"
          ]
        },
        {
          "output_type": "stream",
          "name": "stderr",
          "text": [
            "  0%|          | 0/5 [00:05<?, ?it/s]\n"
          ]
        },
        {
          "output_type": "stream",
          "name": "stdout",
          "text": [
            "          TRD_DD           MKTCAP GDC_sig RSI_sig ROC_sig MAP_sig STC_sig\n",
            "0     2021/12/30  385,091,809,200       0       0       0       0       0\n",
            "1     2021/12/29  383,563,667,100       0       0       0       0       0\n",
            "2     2021/12/28  390,440,306,550       0       0       0       0       0\n",
            "3     2021/12/27  387,384,022,350       0       0       0       0       0\n",
            "4     2021/12/24  385,855,880,250       0       0       0       0       0\n",
            "...          ...              ...     ...     ...     ...     ...     ...\n",
            "1158  2017/04/13  688,055,359,900       0       0       1       1       0\n",
            "1159  2017/04/12  664,801,003,800       0      -1       1       0       0\n",
            "1160  2017/04/11  669,588,665,350       0       0       1       0       0\n",
            "1161  2017/04/10  682,583,746,700       0       0      -1       1       0\n",
            "1162  2017/04/07  570,415,676,100       0      -1       1       0       0\n",
            "\n",
            "[1163 rows x 7 columns]\n",
            "5\n",
            "KR7211270004\n"
          ]
        },
        {
          "output_type": "stream",
          "name": "stderr",
          "text": [
            "/usr/local/lib/python3.7/dist-packages/deap/creator.py:141: RuntimeWarning: A class named 'FitnessMin' has already been created and it will be overwritten. Consider deleting previous creation of that class or rename it.\n",
            "  RuntimeWarning)\n",
            "/usr/local/lib/python3.7/dist-packages/deap/creator.py:141: RuntimeWarning: A class named 'Individual' has already been created and it will be overwritten. Consider deleting previous creation of that class or rename it.\n",
            "  RuntimeWarning)\n",
            " 20%|██        | 1/5 [00:55<03:41, 55.45s/it]"
          ]
        },
        {
          "output_type": "stream",
          "name": "stdout",
          "text": [
            "\n",
            " HALL OF FAME:\n",
            "  0: [81, 189], Fitness: -0.00013976777584\n",
            "  1: [12, 195], Fitness: -3.7607981918e-05\n",
            "  2: [82, 170], Fitness: -3.618835314e-05\n"
          ]
        },
        {
          "output_type": "stream",
          "name": "stderr",
          "text": [
            "\r 40%|████      | 2/5 [01:30<02:09, 43.33s/it]"
          ]
        },
        {
          "output_type": "stream",
          "name": "stdout",
          "text": [
            "\n",
            " HALL OF FAME:\n",
            "  0: [81, 189], Fitness: -0.00013976777584\n",
            "  1: [135, 189], Fitness: -6.8689220772e-05\n",
            "  2: [12, 195], Fitness: -3.7607981918e-05\n"
          ]
        },
        {
          "output_type": "stream",
          "name": "stderr",
          "text": [
            "\r 60%|██████    | 3/5 [02:04<01:18, 39.39s/it]"
          ]
        },
        {
          "output_type": "stream",
          "name": "stdout",
          "text": [
            "\n",
            " HALL OF FAME:\n",
            "  0: [81, 189], Fitness: -0.00013976777584\n",
            "  1: [135, 189], Fitness: -6.8689220772e-05\n",
            "  2: [76, 195], Fitness: -6.0602387734e-05\n"
          ]
        },
        {
          "output_type": "stream",
          "name": "stderr",
          "text": [
            "\r 80%|████████  | 4/5 [02:44<00:39, 39.48s/it]"
          ]
        },
        {
          "output_type": "stream",
          "name": "stdout",
          "text": [
            "\n",
            " HALL OF FAME:\n",
            "  0: [81, 189], Fitness: -0.00013976777584\n",
            "  1: [135, 189], Fitness: -6.8689220772e-05\n",
            "  2: [76, 195], Fitness: -6.0602387734e-05\n"
          ]
        },
        {
          "output_type": "stream",
          "name": "stderr",
          "text": [
            "100%|██████████| 5/5 [03:18<00:00, 39.71s/it]\n"
          ]
        },
        {
          "output_type": "stream",
          "name": "stdout",
          "text": [
            "\n",
            " HALL OF FAME:\n",
            "  0: [81, 189], Fitness: -0.00013976777584\n",
            "  1: [135, 189], Fitness: -6.8689220772e-05\n",
            "  2: [76, 195], Fitness: -6.0602387734e-05\n",
            "Time Elapsed: 198.58\n",
            "**GDC 파라미터 값:  [81, 189]\n",
            "\n",
            "\n"
          ]
        },
        {
          "output_type": "stream",
          "name": "stderr",
          "text": [
            " 20%|██        | 1/5 [00:52<03:28, 52.07s/it]"
          ]
        },
        {
          "output_type": "stream",
          "name": "stdout",
          "text": [
            "\n",
            " HALL OF FAME:\n",
            "  0: [6], Fitness: -0.000203932844914\n",
            "  1: [4], Fitness: -5.6782934457e-05\n",
            "  2: [14], Fitness: 9.000677301e-05\n"
          ]
        },
        {
          "output_type": "stream",
          "name": "stderr",
          "text": [
            "\r 40%|████      | 2/5 [01:26<02:05, 41.88s/it]"
          ]
        },
        {
          "output_type": "stream",
          "name": "stdout",
          "text": [
            "\n",
            " HALL OF FAME:\n",
            "  0: [6], Fitness: -0.000203932844914\n",
            "  1: [4], Fitness: -5.6782934457e-05\n",
            "  2: [14], Fitness: 9.000677301e-05\n"
          ]
        },
        {
          "output_type": "stream",
          "name": "stderr",
          "text": [
            "\r 60%|██████    | 3/5 [02:00<01:15, 37.98s/it]"
          ]
        },
        {
          "output_type": "stream",
          "name": "stdout",
          "text": [
            "\n",
            " HALL OF FAME:\n",
            "  0: [6], Fitness: -0.000203932844914\n",
            "  1: [4], Fitness: -5.6782934457e-05\n",
            "  2: [14], Fitness: 9.000677301e-05\n"
          ]
        },
        {
          "output_type": "stream",
          "name": "stderr",
          "text": [
            "\r 80%|████████  | 4/5 [02:38<00:38, 38.28s/it]"
          ]
        },
        {
          "output_type": "stream",
          "name": "stdout",
          "text": [
            "\n",
            " HALL OF FAME:\n",
            "  0: [6], Fitness: -0.000203932844914\n",
            "  1: [4], Fitness: -5.6782934457e-05\n",
            "  2: [14], Fitness: 9.000677301e-05\n"
          ]
        },
        {
          "output_type": "stream",
          "name": "stderr",
          "text": [
            "100%|██████████| 5/5 [03:18<00:00, 39.67s/it]\n"
          ]
        },
        {
          "output_type": "stream",
          "name": "stdout",
          "text": [
            "\n",
            " HALL OF FAME:\n",
            "  0: [7], Fitness: -0.000239050015239\n",
            "  1: [6], Fitness: -0.000203932844914\n",
            "  2: [4], Fitness: -5.6782934457e-05\n",
            "Time Elapsed: 198.39\n",
            "RSI 파라미터 값:  [7]\n",
            "\n",
            "\n"
          ]
        },
        {
          "output_type": "stream",
          "name": "stderr",
          "text": [
            " 20%|██        | 1/5 [00:55<03:42, 55.58s/it]"
          ]
        },
        {
          "output_type": "stream",
          "name": "stdout",
          "text": [
            "\n",
            " HALL OF FAME:\n",
            "  0: [92], Fitness: -0.00099014802713\n",
            "  1: [56], Fitness: -0.00047128684874\n",
            "  2: [95], Fitness: -0.000424551832472\n"
          ]
        },
        {
          "output_type": "stream",
          "name": "stderr",
          "text": [
            "\r 40%|████      | 2/5 [01:32<02:14, 44.74s/it]"
          ]
        },
        {
          "output_type": "stream",
          "name": "stdout",
          "text": [
            "\n",
            " HALL OF FAME:\n",
            "  0: [136], Fitness: -0.005438477226363\n",
            "  1: [92], Fitness: -0.00099014802713\n",
            "  2: [96], Fitness: -0.000928936367859\n"
          ]
        },
        {
          "output_type": "stream",
          "name": "stderr",
          "text": [
            "\r 60%|██████    | 3/5 [02:06<01:19, 39.76s/it]"
          ]
        },
        {
          "output_type": "stream",
          "name": "stdout",
          "text": [
            "\n",
            " HALL OF FAME:\n",
            "  0: [136], Fitness: -0.005438477226363\n",
            "  1: [142], Fitness: -0.001048657718121\n",
            "  2: [92], Fitness: -0.00099014802713\n"
          ]
        },
        {
          "output_type": "stream",
          "name": "stderr",
          "text": [
            "\r 80%|████████  | 4/5 [02:46<00:39, 39.68s/it]"
          ]
        },
        {
          "output_type": "stream",
          "name": "stdout",
          "text": [
            "\n",
            " HALL OF FAME:\n",
            "  0: [136], Fitness: -0.005438477226363\n",
            "  1: [123], Fitness: -0.004035512510088\n",
            "  2: [51], Fitness: -0.003604577813827\n"
          ]
        },
        {
          "output_type": "stream",
          "name": "stderr",
          "text": [
            "100%|██████████| 5/5 [03:26<00:00, 41.26s/it]\n"
          ]
        },
        {
          "output_type": "stream",
          "name": "stdout",
          "text": [
            "\n",
            " HALL OF FAME:\n",
            "  0: [136], Fitness: -0.005438477226363\n",
            "  1: [123], Fitness: -0.004035512510088\n",
            "  2: [51], Fitness: -0.003604577813827\n",
            "Time Elapsed: 206.31\n",
            "**ROC 파라미터 값:  [136]\n"
          ]
        },
        {
          "output_type": "stream",
          "name": "stderr",
          "text": [
            " 20%|██        | 1/5 [00:55<03:40, 55.13s/it]"
          ]
        },
        {
          "output_type": "stream",
          "name": "stdout",
          "text": [
            "\n",
            " HALL OF FAME:\n",
            "  0: [78, 120, 0.0834987632838584], Fitness: 4.9243909e-07\n",
            "  1: [76, 0.055187565511844276, 0.08952091018223056], Fitness: 4.9243909e-07\n",
            "  2: [78, 0.07078688097685099, 0.05203891440418363], Fitness: 4.9243909e-07\n"
          ]
        },
        {
          "output_type": "stream",
          "name": "stderr",
          "text": [
            "\r 40%|████      | 2/5 [01:28<02:06, 42.27s/it]"
          ]
        },
        {
          "output_type": "stream",
          "name": "stdout",
          "text": [
            "\n",
            " HALL OF FAME:\n",
            "  0: [78, 120, 0.0834987632838584], Fitness: 4.9243909e-07\n",
            "  1: [76, 0.055187565511844276, 0.08952091018223056], Fitness: 4.9243909e-07\n",
            "  2: [78, 0.07078688097685099, 0.05203891440418363], Fitness: 4.9243909e-07\n"
          ]
        },
        {
          "output_type": "stream",
          "name": "stderr",
          "text": [
            "\r 60%|██████    | 3/5 [02:09<01:23, 41.93s/it]"
          ]
        },
        {
          "output_type": "stream",
          "name": "stdout",
          "text": [
            "\n",
            " HALL OF FAME:\n",
            "  0: [78, 120, 0.0834987632838584], Fitness: 4.9243909e-07\n",
            "  1: [76, 0.055187565511844276, 0.08952091018223056], Fitness: 4.9243909e-07\n",
            "  2: [78, 0.07078688097685099, 0.05203891440418363], Fitness: 4.9243909e-07\n"
          ]
        },
        {
          "output_type": "stream",
          "name": "stderr",
          "text": [
            "\r 80%|████████  | 4/5 [02:44<00:39, 39.16s/it]"
          ]
        },
        {
          "output_type": "stream",
          "name": "stdout",
          "text": [
            "\n",
            " HALL OF FAME:\n",
            "  0: [105, 0.07078688097685099, 0.05203891440418363], Fitness: 3.66905155e-07\n",
            "  1: [78, 120, 0.0834987632838584], Fitness: 4.9243909e-07\n",
            "  2: [76, 0.055187565511844276, 0.08952091018223056], Fitness: 4.9243909e-07\n"
          ]
        },
        {
          "output_type": "stream",
          "name": "stderr",
          "text": [
            "100%|██████████| 5/5 [03:20<00:00, 40.07s/it]\n"
          ]
        },
        {
          "output_type": "stream",
          "name": "stdout",
          "text": [
            "\n",
            " HALL OF FAME:\n",
            "  0: [105, 39, 100], Fitness: 3.66905155e-07\n",
            "  1: [105, 0.07078688097685099, 0.05203891440418363], Fitness: 3.66905155e-07\n",
            "  2: [78, 120, 0.0834987632838584], Fitness: 4.9243909e-07\n",
            "Time Elapsed: 200.34\n",
            "**MAP 파라미터 값:  [105, 39, 100]\n"
          ]
        },
        {
          "output_type": "stream",
          "name": "stderr",
          "text": [
            "  0%|          | 0/5 [00:06<?, ?it/s]\n"
          ]
        },
        {
          "output_type": "stream",
          "name": "stdout",
          "text": [
            "          TRD_DD           MKTCAP GDC_sig RSI_sig ROC_sig MAP_sig STC_sig\n",
            "0     2021/12/30  218,693,408,000       0       0       0       0       0\n",
            "1     2021/12/29  217,939,292,800       0       0       0       0       0\n",
            "2     2021/12/28  208,135,795,200       0       0       0       0       0\n",
            "3     2021/12/27  208,135,795,200       0       0       0       0       0\n",
            "4     2021/12/24  207,381,680,000       0       0       0       0       0\n",
            "...          ...              ...     ...     ...     ...     ...     ...\n",
            "1430  2016/03/10  141,455,592,000       0       1      -1       0       1\n",
            "1431  2016/03/09  136,871,383,000       0       0      -1       0       0\n",
            "1432  2016/03/08  134,906,722,000       0       0      -1       0       0\n",
            "1433  2016/03/07  140,800,705,000       0       0      -1       0       0\n",
            "1434  2016/03/04  140,800,705,000       0       0      -1       0       0\n",
            "\n",
            "[1435 rows x 7 columns]\n",
            "6\n",
            "KR7027410000\n"
          ]
        },
        {
          "output_type": "stream",
          "name": "stderr",
          "text": [
            "/usr/local/lib/python3.7/dist-packages/deap/creator.py:141: RuntimeWarning: A class named 'FitnessMin' has already been created and it will be overwritten. Consider deleting previous creation of that class or rename it.\n",
            "  RuntimeWarning)\n",
            "/usr/local/lib/python3.7/dist-packages/deap/creator.py:141: RuntimeWarning: A class named 'Individual' has already been created and it will be overwritten. Consider deleting previous creation of that class or rename it.\n",
            "  RuntimeWarning)\n",
            " 20%|██        | 1/5 [01:12<04:49, 72.43s/it]"
          ]
        },
        {
          "output_type": "stream",
          "name": "stdout",
          "text": [
            "\n",
            " HALL OF FAME:\n",
            "  0: [12, 195], Fitness: -0.000402675780562\n",
            "  1: [35, 206], Fitness: -0.000282905438857\n",
            "  2: [89, 156], Fitness: -2.2910773705e-05\n"
          ]
        },
        {
          "output_type": "stream",
          "name": "stderr",
          "text": [
            "\r 40%|████      | 2/5 [01:57<02:49, 56.56s/it]"
          ]
        },
        {
          "output_type": "stream",
          "name": "stdout",
          "text": [
            "\n",
            " HALL OF FAME:\n",
            "  0: [12, 195], Fitness: -0.000402675780562\n",
            "  1: [35, 206], Fitness: -0.000282905438857\n",
            "  2: [89, 156], Fitness: -2.2910773705e-05\n"
          ]
        },
        {
          "output_type": "stream",
          "name": "stderr",
          "text": [
            "\r 60%|██████    | 3/5 [02:42<01:42, 51.26s/it]"
          ]
        },
        {
          "output_type": "stream",
          "name": "stdout",
          "text": [
            "\n",
            " HALL OF FAME:\n",
            "  0: [12, 195], Fitness: -0.000402675780562\n",
            "  1: [35, 206], Fitness: -0.000282905438857\n",
            "  2: [89, 156], Fitness: -2.2910773705e-05\n"
          ]
        },
        {
          "output_type": "stream",
          "name": "stderr",
          "text": [
            "\r 80%|████████  | 4/5 [03:33<00:51, 51.10s/it]"
          ]
        },
        {
          "output_type": "stream",
          "name": "stdout",
          "text": [
            "\n",
            " HALL OF FAME:\n",
            "  0: [12, 195], Fitness: -0.000402675780562\n",
            "  1: [34, 206], Fitness: -0.000282905438857\n",
            "  2: [35, 206], Fitness: -0.000282905438857\n"
          ]
        },
        {
          "output_type": "stream",
          "name": "stderr",
          "text": [
            "100%|██████████| 5/5 [04:17<00:00, 51.53s/it]\n"
          ]
        },
        {
          "output_type": "stream",
          "name": "stdout",
          "text": [
            "\n",
            " HALL OF FAME:\n",
            "  0: [12, 195], Fitness: -0.000402675780562\n",
            "  1: [34, 206], Fitness: -0.000282905438857\n",
            "  2: [35, 206], Fitness: -0.000282905438857\n",
            "Time Elapsed: 257.65\n",
            "**GDC 파라미터 값:  [12, 195]\n",
            "\n",
            "\n"
          ]
        },
        {
          "output_type": "stream",
          "name": "stderr",
          "text": [
            " 20%|██        | 1/5 [01:09<04:37, 69.27s/it]"
          ]
        },
        {
          "output_type": "stream",
          "name": "stdout",
          "text": [
            "\n",
            " HALL OF FAME:\n",
            "  0: [95], Fitness: -9.1739963075e-05\n",
            "  1: [90], Fitness: -8.1607671121e-05\n",
            "  2: [92], Fitness: -8.1607671121e-05\n"
          ]
        },
        {
          "output_type": "stream",
          "name": "stderr",
          "text": [
            "\r 40%|████      | 2/5 [01:54<02:45, 55.03s/it]"
          ]
        },
        {
          "output_type": "stream",
          "name": "stdout",
          "text": [
            "\n",
            " HALL OF FAME:\n",
            "  0: [96], Fitness: -9.1739963075e-05\n",
            "  1: [95], Fitness: -9.1739963075e-05\n",
            "  2: [90], Fitness: -8.1607671121e-05\n"
          ]
        },
        {
          "output_type": "stream",
          "name": "stderr",
          "text": [
            "\r 60%|██████    | 3/5 [02:36<01:38, 49.23s/it]"
          ]
        },
        {
          "output_type": "stream",
          "name": "stdout",
          "text": [
            "\n",
            " HALL OF FAME:\n",
            "  0: [96], Fitness: -9.1739963075e-05\n",
            "  1: [95], Fitness: -9.1739963075e-05\n",
            "  2: [90], Fitness: -8.1607671121e-05\n"
          ]
        },
        {
          "output_type": "stream",
          "name": "stderr",
          "text": [
            "\r 80%|████████  | 4/5 [03:25<00:49, 49.14s/it]"
          ]
        },
        {
          "output_type": "stream",
          "name": "stdout",
          "text": [
            "\n",
            " HALL OF FAME:\n",
            "  0: [96], Fitness: -9.1739963075e-05\n",
            "  1: [95], Fitness: -9.1739963075e-05\n",
            "  2: [90], Fitness: -8.1607671121e-05\n"
          ]
        },
        {
          "output_type": "stream",
          "name": "stderr",
          "text": [
            "100%|██████████| 5/5 [04:15<00:00, 51.15s/it]\n"
          ]
        },
        {
          "output_type": "stream",
          "name": "stdout",
          "text": [
            "\n",
            " HALL OF FAME:\n",
            "  0: [96], Fitness: -9.1739963075e-05\n",
            "  1: [95], Fitness: -9.1739963075e-05\n",
            "  2: [90], Fitness: -8.1607671121e-05\n",
            "Time Elapsed: 255.77\n",
            "RSI 파라미터 값:  [96]\n",
            "\n",
            "\n"
          ]
        },
        {
          "output_type": "stream",
          "name": "stderr",
          "text": [
            " 20%|██        | 1/5 [01:10<04:43, 70.92s/it]"
          ]
        },
        {
          "output_type": "stream",
          "name": "stdout",
          "text": [
            "\n",
            " HALL OF FAME:\n",
            "  0: [9], Fitness: -3.7016917657e-05\n",
            "  1: [20], Fitness: -2.5427572579e-05\n",
            "  2: [13], Fitness: -1.6534019054e-05\n"
          ]
        },
        {
          "output_type": "stream",
          "name": "stderr",
          "text": [
            "\r 40%|████      | 2/5 [01:58<02:51, 57.13s/it]"
          ]
        },
        {
          "output_type": "stream",
          "name": "stdout",
          "text": [
            "\n",
            " HALL OF FAME:\n",
            "  0: [9], Fitness: -3.7016917657e-05\n",
            "  1: [20], Fitness: -2.5427572579e-05\n",
            "  2: [13], Fitness: -1.6534019054e-05\n"
          ]
        },
        {
          "output_type": "stream",
          "name": "stderr",
          "text": [
            "\r 60%|██████    | 3/5 [02:44<01:43, 51.92s/it]"
          ]
        },
        {
          "output_type": "stream",
          "name": "stdout",
          "text": [
            "\n",
            " HALL OF FAME:\n",
            "  0: [111], Fitness: -0.000224419664773\n",
            "  1: [117], Fitness: -0.00010307126605\n",
            "  2: [9], Fitness: -3.7016917657e-05\n"
          ]
        },
        {
          "output_type": "stream",
          "name": "stderr",
          "text": [
            "\r 80%|████████  | 4/5 [03:38<00:52, 52.86s/it]"
          ]
        },
        {
          "output_type": "stream",
          "name": "stdout",
          "text": [
            "\n",
            " HALL OF FAME:\n",
            "  0: [123], Fitness: -0.00131423314496\n",
            "  1: [111], Fitness: -0.000224419664773\n",
            "  2: [117], Fitness: -0.00010307126605\n"
          ]
        },
        {
          "output_type": "stream",
          "name": "stderr",
          "text": [
            "100%|██████████| 5/5 [04:33<00:00, 54.64s/it]\n"
          ]
        },
        {
          "output_type": "stream",
          "name": "stdout",
          "text": [
            "\n",
            " HALL OF FAME:\n",
            "  0: [123], Fitness: -0.00131423314496\n",
            "  1: [111], Fitness: -0.000224419664773\n",
            "  2: [117], Fitness: -0.00010307126605\n",
            "Time Elapsed: 273.20\n",
            "**ROC 파라미터 값:  [123]\n"
          ]
        },
        {
          "output_type": "stream",
          "name": "stderr",
          "text": [
            " 20%|██        | 1/5 [01:11<04:45, 71.45s/it]"
          ]
        },
        {
          "output_type": "stream",
          "name": "stdout",
          "text": [
            "\n",
            " HALL OF FAME:\n",
            "  0: [63, 0.050887298759632396, 142], Fitness: 5.204606076e-06\n",
            "  1: [63, 0.050887298759632396, 0.052423072145831896], Fitness: 5.204606076e-06\n",
            "  2: [21, 29, 0.07165294658549567], Fitness: 6.161676222e-06\n"
          ]
        },
        {
          "output_type": "stream",
          "name": "stderr",
          "text": [
            "\r 40%|████      | 2/5 [01:54<02:44, 54.84s/it]"
          ]
        },
        {
          "output_type": "stream",
          "name": "stdout",
          "text": [
            "\n",
            " HALL OF FAME:\n",
            "  0: [63, 0.050887298759632396, 0.05603061497811238], Fitness: 5.204606076e-06\n",
            "  1: [63, 0.050887298759632396, 142], Fitness: 5.204606076e-06\n",
            "  2: [63, 0.050887298759632396, 0.052423072145831896], Fitness: 5.204606076e-06\n"
          ]
        },
        {
          "output_type": "stream",
          "name": "stderr",
          "text": [
            "\r 60%|██████    | 3/5 [02:48<01:48, 54.41s/it]"
          ]
        },
        {
          "output_type": "stream",
          "name": "stdout",
          "text": [
            "\n",
            " HALL OF FAME:\n",
            "  0: [63, 0.050887298759632396, 0.05603061497811238], Fitness: 5.204606076e-06\n",
            "  1: [63, 0.050887298759632396, 142], Fitness: 5.204606076e-06\n",
            "  2: [63, 0.050887298759632396, 0.052423072145831896], Fitness: 5.204606076e-06\n"
          ]
        },
        {
          "output_type": "stream",
          "name": "stderr",
          "text": [
            "\r 80%|████████  | 4/5 [03:33<00:50, 50.76s/it]"
          ]
        },
        {
          "output_type": "stream",
          "name": "stdout",
          "text": [
            "\n",
            " HALL OF FAME:\n",
            "  0: [63, 0.050887298759632396, 0.05603061497811238], Fitness: 5.204606076e-06\n",
            "  1: [63, 0.050887298759632396, 142], Fitness: 5.204606076e-06\n",
            "  2: [63, 0.050887298759632396, 0.052423072145831896], Fitness: 5.204606076e-06\n"
          ]
        },
        {
          "output_type": "stream",
          "name": "stderr",
          "text": [
            "100%|██████████| 5/5 [04:18<00:00, 51.70s/it]\n"
          ]
        },
        {
          "output_type": "stream",
          "name": "stdout",
          "text": [
            "\n",
            " HALL OF FAME:\n",
            "  0: [63, 0.050887298759632396, 0.05603061497811238], Fitness: 5.204606076e-06\n",
            "  1: [63, 0.050887298759632396, 142], Fitness: 5.204606076e-06\n",
            "  2: [63, 0.050887298759632396, 0.052423072145831896], Fitness: 5.204606076e-06\n",
            "Time Elapsed: 258.53\n",
            "**MAP 파라미터 값:  [63, 0.050887298759632396, 0.05603061497811238]\n"
          ]
        },
        {
          "output_type": "stream",
          "name": "stderr",
          "text": [
            "  0%|          | 0/5 [00:01<?, ?it/s]\n"
          ]
        },
        {
          "output_type": "stream",
          "name": "stdout",
          "text": [
            "          TRD_DD             MKTCAP GDC_sig RSI_sig ROC_sig MAP_sig STC_sig\n",
            "0     2021/12/30    506,341,824,390       0       0       0       0       0\n",
            "1     2021/12/29    508,256,160,210       0       0       0       0       0\n",
            "2     2021/12/28    509,213,328,120       0       0       0       0       0\n",
            "3     2021/12/27    512,084,831,850       0       0       0       0       0\n",
            "4     2021/12/24    508,256,160,210       0       0       0       0       0\n",
            "...          ...                ...     ...     ...     ...     ...     ...\n",
            "1871  2014/05/23  1,436,516,664,000       0       0       1       0       0\n",
            "1872  2014/05/22  1,382,308,488,000       0       0       1      -1       0\n",
            "1873  2014/05/21  1,374,916,464,000       0       0       1      -1       0\n",
            "1874  2014/05/20  1,421,732,616,000       0       0       1      -1       0\n",
            "1875  2014/05/19  1,360,132,416,000       0       0       1      -1       0\n",
            "\n",
            "[1876 rows x 7 columns]\n",
            "7\n",
            "KR7282330000\n"
          ]
        },
        {
          "output_type": "stream",
          "name": "stderr",
          "text": [
            "/usr/local/lib/python3.7/dist-packages/deap/creator.py:141: RuntimeWarning: A class named 'FitnessMin' has already been created and it will be overwritten. Consider deleting previous creation of that class or rename it.\n",
            "  RuntimeWarning)\n",
            "/usr/local/lib/python3.7/dist-packages/deap/creator.py:141: RuntimeWarning: A class named 'Individual' has already been created and it will be overwritten. Consider deleting previous creation of that class or rename it.\n",
            "  RuntimeWarning)\n",
            " 20%|██        | 1/5 [00:38<02:35, 38.96s/it]"
          ]
        },
        {
          "output_type": "stream",
          "name": "stdout",
          "text": [
            "\n",
            " HALL OF FAME:\n",
            "  0: [25, 231], Fitness: -0.000135089496792\n",
            "  1: [12, 195], Fitness: -0.000131384463787\n",
            "  2: [20, 153], Fitness: -4.7309284447e-05\n"
          ]
        },
        {
          "output_type": "stream",
          "name": "stderr",
          "text": [
            "\r 40%|████      | 2/5 [01:03<01:31, 30.49s/it]"
          ]
        },
        {
          "output_type": "stream",
          "name": "stdout",
          "text": [
            "\n",
            " HALL OF FAME:\n",
            "  0: [45, 171], Fitness: -0.00018115942029\n",
            "  1: [25, 231], Fitness: -0.000135089496792\n",
            "  2: [50, 153], Fitness: -0.000134907251265\n"
          ]
        },
        {
          "output_type": "stream",
          "name": "stderr",
          "text": [
            "\r 60%|██████    | 3/5 [01:27<00:55, 27.59s/it]"
          ]
        },
        {
          "output_type": "stream",
          "name": "stdout",
          "text": [
            "\n",
            " HALL OF FAME:\n",
            "  0: [45, 171], Fitness: -0.00018115942029\n",
            "  1: [38, 203], Fitness: -0.000145666423889\n",
            "  2: [25, 231], Fitness: -0.000135089496792\n"
          ]
        },
        {
          "output_type": "stream",
          "name": "stderr",
          "text": [
            "\r 80%|████████  | 4/5 [01:55<00:27, 27.63s/it]"
          ]
        },
        {
          "output_type": "stream",
          "name": "stdout",
          "text": [
            "\n",
            " HALL OF FAME:\n",
            "  0: [45, 171], Fitness: -0.00018115942029\n",
            "  1: [38, 203], Fitness: -0.000145666423889\n",
            "  2: [25, 231], Fitness: -0.000135089496792\n"
          ]
        },
        {
          "output_type": "stream",
          "name": "stderr",
          "text": [
            "100%|██████████| 5/5 [02:19<00:00, 27.86s/it]\n"
          ]
        },
        {
          "output_type": "stream",
          "name": "stdout",
          "text": [
            "\n",
            " HALL OF FAME:\n",
            "  0: [45, 171], Fitness: -0.00018115942029\n",
            "  1: [38, 203], Fitness: -0.000145666423889\n",
            "  2: [25, 231], Fitness: -0.000135089496792\n",
            "Time Elapsed: 139.33\n",
            "**GDC 파라미터 값:  [45, 171]\n",
            "\n",
            "\n"
          ]
        },
        {
          "output_type": "stream",
          "name": "stderr",
          "text": [
            " 20%|██        | 1/5 [00:35<02:23, 35.99s/it]"
          ]
        },
        {
          "output_type": "stream",
          "name": "stdout",
          "text": [
            "\n",
            " HALL OF FAME:\n",
            "  0: [9], Fitness: -9.6688421562e-05\n",
            "  1: [20], Fitness: -8.4086609207e-05\n",
            "  2: [13], Fitness: -2.9436655996e-05\n"
          ]
        },
        {
          "output_type": "stream",
          "name": "stderr",
          "text": [
            "\r 40%|████      | 2/5 [01:00<01:26, 28.95s/it]"
          ]
        },
        {
          "output_type": "stream",
          "name": "stdout",
          "text": [
            "\n",
            " HALL OF FAME:\n",
            "  0: [9], Fitness: -9.6688421562e-05\n",
            "  1: [20], Fitness: -8.4086609207e-05\n",
            "  2: [13], Fitness: -2.9436655996e-05\n"
          ]
        },
        {
          "output_type": "stream",
          "name": "stderr",
          "text": [
            "\r 60%|██████    | 3/5 [01:22<00:52, 26.17s/it]"
          ]
        },
        {
          "output_type": "stream",
          "name": "stdout",
          "text": [
            "\n",
            " HALL OF FAME:\n",
            "  0: [9], Fitness: -9.6688421562e-05\n",
            "  1: [20], Fitness: -8.4086609207e-05\n",
            "  2: [13], Fitness: -2.9436655996e-05\n"
          ]
        },
        {
          "output_type": "stream",
          "name": "stderr",
          "text": [
            "\r 80%|████████  | 4/5 [01:49<00:26, 26.41s/it]"
          ]
        },
        {
          "output_type": "stream",
          "name": "stdout",
          "text": [
            "\n",
            " HALL OF FAME:\n",
            "  0: [9], Fitness: -9.6688421562e-05\n",
            "  1: [20], Fitness: -8.4086609207e-05\n",
            "  2: [13], Fitness: -2.9436655996e-05\n"
          ]
        },
        {
          "output_type": "stream",
          "name": "stderr",
          "text": [
            "100%|██████████| 5/5 [02:17<00:00, 27.42s/it]\n"
          ]
        },
        {
          "output_type": "stream",
          "name": "stdout",
          "text": [
            "\n",
            " HALL OF FAME:\n",
            "  0: [9], Fitness: -9.6688421562e-05\n",
            "  1: [20], Fitness: -8.4086609207e-05\n",
            "  2: [7], Fitness: -4.3212877437e-05\n",
            "Time Elapsed: 137.10\n",
            "RSI 파라미터 값:  [9]\n",
            "\n",
            "\n"
          ]
        },
        {
          "output_type": "stream",
          "name": "stderr",
          "text": [
            " 20%|██        | 1/5 [00:39<02:36, 39.03s/it]"
          ]
        },
        {
          "output_type": "stream",
          "name": "stdout",
          "text": [
            "\n",
            " HALL OF FAME:\n",
            "  0: [18], Fitness: -7.2601869498e-05\n",
            "  1: [100], Fitness: -3.4129692833e-05\n",
            "  2: [16], Fitness: -3.1481189989e-05\n"
          ]
        },
        {
          "output_type": "stream",
          "name": "stderr",
          "text": [
            "\r 40%|████      | 2/5 [01:04<01:32, 30.81s/it]"
          ]
        },
        {
          "output_type": "stream",
          "name": "stdout",
          "text": [
            "\n",
            " HALL OF FAME:\n",
            "  0: [18], Fitness: -7.2601869498e-05\n",
            "  1: [136], Fitness: -3.6413290851e-05\n",
            "  2: [100], Fitness: -3.4129692833e-05\n"
          ]
        },
        {
          "output_type": "stream",
          "name": "stderr",
          "text": [
            "\r 60%|██████    | 3/5 [01:27<00:55, 27.58s/it]"
          ]
        },
        {
          "output_type": "stream",
          "name": "stdout",
          "text": [
            "\n",
            " HALL OF FAME:\n",
            "  0: [111], Fitness: -0.000157170923379\n",
            "  1: [18], Fitness: -7.2601869498e-05\n",
            "  2: [136], Fitness: -3.6413290851e-05\n"
          ]
        },
        {
          "output_type": "stream",
          "name": "stderr",
          "text": [
            "\r 80%|████████  | 4/5 [01:55<00:27, 27.62s/it]"
          ]
        },
        {
          "output_type": "stream",
          "name": "stdout",
          "text": [
            "\n",
            " HALL OF FAME:\n",
            "  0: [111], Fitness: -0.000157170923379\n",
            "  1: [18], Fitness: -7.2601869498e-05\n",
            "  2: [136], Fitness: -3.6413290851e-05\n"
          ]
        },
        {
          "output_type": "stream",
          "name": "stderr",
          "text": [
            "100%|██████████| 5/5 [02:24<00:00, 28.81s/it]\n"
          ]
        },
        {
          "output_type": "stream",
          "name": "stdout",
          "text": [
            "\n",
            " HALL OF FAME:\n",
            "  0: [111], Fitness: -0.000157170923379\n",
            "  1: [18], Fitness: -7.2601869498e-05\n",
            "  2: [122], Fitness: -6.2029929441e-05\n",
            "Time Elapsed: 144.09\n",
            "**ROC 파라미터 값:  [111]\n"
          ]
        },
        {
          "output_type": "stream",
          "name": "stderr",
          "text": [
            " 20%|██        | 1/5 [00:37<02:31, 37.99s/it]"
          ]
        },
        {
          "output_type": "stream",
          "name": "stdout",
          "text": [
            "\n",
            " HALL OF FAME:\n",
            "  0: [150, 0.06753722930245548, 8], Fitness: 1.030131342e-06\n",
            "  1: [74, 0.05734345253221023, 0.0541948690331797], Fitness: 1.063066415e-06\n",
            "  2: [71, 0.08523621228989432, 100], Fitness: 1.069907774e-06\n"
          ]
        },
        {
          "output_type": "stream",
          "name": "stderr",
          "text": [
            "\r 40%|████      | 2/5 [01:00<01:27, 29.03s/it]"
          ]
        },
        {
          "output_type": "stream",
          "name": "stdout",
          "text": [
            "\n",
            " HALL OF FAME:\n",
            "  0: [150, 0.06753722930245548, 8], Fitness: 1.030131342e-06\n",
            "  1: [74, 0.05734345253221023, 0.08166687675528492], Fitness: 1.063066415e-06\n",
            "  2: [74, 0.05734345253221023, 0.0541948690331797], Fitness: 1.063066415e-06\n"
          ]
        },
        {
          "output_type": "stream",
          "name": "stderr",
          "text": [
            "\r 60%|██████    | 3/5 [01:29<00:57, 28.78s/it]"
          ]
        },
        {
          "output_type": "stream",
          "name": "stdout",
          "text": [
            "\n",
            " HALL OF FAME:\n",
            "  0: [150, 0.06753722930245548, 8], Fitness: 1.030131342e-06\n",
            "  1: [74, 0.05734345253221023, 0.08166687675528492], Fitness: 1.063066415e-06\n",
            "  2: [74, 0.05734345253221023, 0.0541948690331797], Fitness: 1.063066415e-06\n"
          ]
        },
        {
          "output_type": "stream",
          "name": "stderr",
          "text": [
            "\r 80%|████████  | 4/5 [01:53<00:26, 26.87s/it]"
          ]
        },
        {
          "output_type": "stream",
          "name": "stdout",
          "text": [
            "\n",
            " HALL OF FAME:\n",
            "  0: [150, 0.06753722930245548, 8], Fitness: 1.030131342e-06\n",
            "  1: [74, 0.05734345253221023, 0.08166687675528492], Fitness: 1.063066415e-06\n",
            "  2: [74, 0.05734345253221023, 0.0541948690331797], Fitness: 1.063066415e-06\n"
          ]
        },
        {
          "output_type": "stream",
          "name": "stderr",
          "text": [
            "100%|██████████| 5/5 [02:17<00:00, 27.48s/it]\n"
          ]
        },
        {
          "output_type": "stream",
          "name": "stdout",
          "text": [
            "\n",
            " HALL OF FAME:\n",
            "  0: [150, 0.06753722930245548, 8], Fitness: 1.030131342e-06\n",
            "  1: [73, 146, 95], Fitness: 1.052966866e-06\n",
            "  2: [74, 0.05734345253221023, 0.08166687675528492], Fitness: 1.063066415e-06\n",
            "Time Elapsed: 137.42\n",
            "**MAP 파라미터 값:  [150, 0.06753722930245548, 8]\n"
          ]
        },
        {
          "output_type": "stream",
          "name": "stderr",
          "text": [
            "  0%|          | 0/5 [00:01<?, ?it/s]\n"
          ]
        },
        {
          "output_type": "stream",
          "name": "stdout",
          "text": [
            "         TRD_DD             MKTCAP GDC_sig RSI_sig ROC_sig MAP_sig STC_sig\n",
            "0    2021/12/30  2,514,808,323,000       0       0       0       0       0\n",
            "1    2021/12/29  2,523,450,276,000       0       0       0       0       0\n",
            "2    2021/12/28  2,592,585,900,000       0       0       0       0       0\n",
            "3    2021/12/27  2,514,808,323,000       0       0       0       0       0\n",
            "4    2021/12/24  2,540,734,182,000       0       0       0       0       0\n",
            "..          ...                ...     ...     ...     ...     ...     ...\n",
            "995  2017/12/14  4,044,434,004,000       0       1      -1       1       1\n",
            "996  2017/12/13  4,061,717,910,000       0       1      -1       1       0\n",
            "997  2017/12/12  4,061,717,910,000       0       1      -1       1       0\n",
            "998  2017/12/11  4,295,050,641,000       0       1      -1       1       1\n",
            "999  2017/12/08  3,353,077,764,000       0       0      -1       0       0\n",
            "\n",
            "[1000 rows x 7 columns]\n",
            "8\n",
            "KR7138930003\n"
          ]
        },
        {
          "output_type": "stream",
          "name": "stderr",
          "text": [
            "/usr/local/lib/python3.7/dist-packages/deap/creator.py:141: RuntimeWarning: A class named 'FitnessMin' has already been created and it will be overwritten. Consider deleting previous creation of that class or rename it.\n",
            "  RuntimeWarning)\n",
            "/usr/local/lib/python3.7/dist-packages/deap/creator.py:141: RuntimeWarning: A class named 'Individual' has already been created and it will be overwritten. Consider deleting previous creation of that class or rename it.\n",
            "  RuntimeWarning)\n",
            " 20%|██        | 1/5 [01:42<06:48, 102.14s/it]"
          ]
        },
        {
          "output_type": "stream",
          "name": "stdout",
          "text": [
            "\n",
            " HALL OF FAME:\n",
            "  0: [95, 238], Fitness: -0.007293946024801\n",
            "  1: [75, 203], Fitness: -0.000145886369107\n",
            "  2: [94, 224], Fitness: -2.8567551547e-05\n"
          ]
        },
        {
          "output_type": "stream",
          "name": "stderr",
          "text": [
            "\r 40%|████      | 2/5 [02:46<04:00, 80.07s/it] "
          ]
        },
        {
          "output_type": "stream",
          "name": "stdout",
          "text": [
            "\n",
            " HALL OF FAME:\n",
            "  0: [95, 238], Fitness: -0.007293946024801\n",
            "  1: [75, 203], Fitness: -0.000145886369107\n",
            "  2: [94, 224], Fitness: -2.8567551547e-05\n"
          ]
        },
        {
          "output_type": "stream",
          "name": "stderr",
          "text": [
            "\r 60%|██████    | 3/5 [03:50<02:24, 72.45s/it]"
          ]
        },
        {
          "output_type": "stream",
          "name": "stdout",
          "text": [
            "\n",
            " HALL OF FAME:\n",
            "  0: [95, 238], Fitness: -0.007293946024801\n",
            "  1: [75, 203], Fitness: -0.000145886369107\n",
            "  2: [44, 81], Fitness: -5.9694810282e-05\n"
          ]
        },
        {
          "output_type": "stream",
          "name": "stderr",
          "text": [
            "\r 80%|████████  | 4/5 [05:02<01:12, 72.43s/it]"
          ]
        },
        {
          "output_type": "stream",
          "name": "stdout",
          "text": [
            "\n",
            " HALL OF FAME:\n",
            "  0: [95, 238], Fitness: -0.007293946024801\n",
            "  1: [78, 195], Fitness: -0.00020133890371\n",
            "  2: [75, 203], Fitness: -0.000145886369107\n"
          ]
        },
        {
          "output_type": "stream",
          "name": "stderr",
          "text": [
            "100%|██████████| 5/5 [06:04<00:00, 72.92s/it]\n"
          ]
        },
        {
          "output_type": "stream",
          "name": "stdout",
          "text": [
            "\n",
            " HALL OF FAME:\n",
            "  0: [95, 238], Fitness: -0.007293946024801\n",
            "  1: [78, 195], Fitness: -0.00020133890371\n",
            "  2: [75, 203], Fitness: -0.000145886369107\n",
            "Time Elapsed: 364.63\n",
            "**GDC 파라미터 값:  [95, 238]\n",
            "\n",
            "\n"
          ]
        },
        {
          "output_type": "stream",
          "name": "stderr",
          "text": [
            " 20%|██        | 1/5 [01:34<06:16, 94.07s/it]"
          ]
        },
        {
          "output_type": "stream",
          "name": "stdout",
          "text": [
            "\n",
            " HALL OF FAME:\n",
            "  0: [48], Fitness: -0.0070771408351\n",
            "  1: [47], Fitness: -0.003108003108003\n",
            "  2: [45], Fitness: -0.002072968490879\n"
          ]
        },
        {
          "output_type": "stream",
          "name": "stderr",
          "text": [
            "\r 40%|████      | 2/5 [02:36<03:46, 75.61s/it]"
          ]
        },
        {
          "output_type": "stream",
          "name": "stdout",
          "text": [
            "\n",
            " HALL OF FAME:\n",
            "  0: [48], Fitness: -0.0070771408351\n",
            "  1: [47], Fitness: -0.003108003108003\n",
            "  2: [45], Fitness: -0.002072968490879\n"
          ]
        },
        {
          "output_type": "stream",
          "name": "stderr",
          "text": [
            "\r 60%|██████    | 3/5 [03:35<02:16, 68.13s/it]"
          ]
        },
        {
          "output_type": "stream",
          "name": "stdout",
          "text": [
            "\n",
            " HALL OF FAME:\n",
            "  0: [48], Fitness: -0.0070771408351\n",
            "  1: [10], Fitness: -0.006725514922247\n",
            "  2: [47], Fitness: -0.003108003108003\n"
          ]
        },
        {
          "output_type": "stream",
          "name": "stderr",
          "text": [
            "\r 80%|████████  | 4/5 [04:44<01:08, 68.47s/it]"
          ]
        },
        {
          "output_type": "stream",
          "name": "stdout",
          "text": [
            "\n",
            " HALL OF FAME:\n",
            "  0: [48], Fitness: -0.0070771408351\n",
            "  1: [10], Fitness: -0.006725514922247\n",
            "  2: [47], Fitness: -0.003108003108003\n"
          ]
        },
        {
          "output_type": "stream",
          "name": "stderr",
          "text": [
            "100%|██████████| 5/5 [05:55<00:00, 71.03s/it]\n"
          ]
        },
        {
          "output_type": "stream",
          "name": "stdout",
          "text": [
            "\n",
            " HALL OF FAME:\n",
            "  0: [48], Fitness: -0.0070771408351\n",
            "  1: [10], Fitness: -0.006725514922247\n",
            "  2: [47], Fitness: -0.003108003108003\n",
            "Time Elapsed: 355.15\n",
            "RSI 파라미터 값:  [48]\n",
            "\n",
            "\n"
          ]
        },
        {
          "output_type": "stream",
          "name": "stderr",
          "text": [
            " 20%|██        | 1/5 [01:43<06:53, 103.26s/it]"
          ]
        },
        {
          "output_type": "stream",
          "name": "stdout",
          "text": [
            "\n",
            " HALL OF FAME:\n",
            "  0: [39], Fitness: -0.000161497729948\n",
            "  1: [55], Fitness: -0.000148117975968\n",
            "  2: [65], Fitness: -0.000131995340564\n"
          ]
        },
        {
          "output_type": "stream",
          "name": "stderr",
          "text": [
            "\r 40%|████      | 2/5 [02:50<04:06, 82.11s/it] "
          ]
        },
        {
          "output_type": "stream",
          "name": "stdout",
          "text": [
            "\n",
            " HALL OF FAME:\n",
            "  0: [39], Fitness: -0.000161497729948\n",
            "  1: [55], Fitness: -0.000148117975968\n",
            "  2: [65], Fitness: -0.000131995340564\n"
          ]
        },
        {
          "output_type": "stream",
          "name": "stderr",
          "text": [
            "\r 60%|██████    | 3/5 [03:53<02:26, 73.44s/it]"
          ]
        },
        {
          "output_type": "stream",
          "name": "stdout",
          "text": [
            "\n",
            " HALL OF FAME:\n",
            "  0: [39], Fitness: -0.000161497729948\n",
            "  1: [55], Fitness: -0.000148117975968\n",
            "  2: [65], Fitness: -0.000131995340564\n"
          ]
        },
        {
          "output_type": "stream",
          "name": "stderr",
          "text": [
            "\r 80%|████████  | 4/5 [05:07<01:13, 73.60s/it]"
          ]
        },
        {
          "output_type": "stream",
          "name": "stdout",
          "text": [
            "\n",
            " HALL OF FAME:\n",
            "  0: [82], Fitness: -0.000236402427853\n",
            "  1: [148], Fitness: -0.000227783946926\n",
            "  2: [39], Fitness: -0.000161497729948\n"
          ]
        },
        {
          "output_type": "stream",
          "name": "stderr",
          "text": [
            "100%|██████████| 5/5 [06:23<00:00, 76.60s/it]\n"
          ]
        },
        {
          "output_type": "stream",
          "name": "stdout",
          "text": [
            "\n",
            " HALL OF FAME:\n",
            "  0: [82], Fitness: -0.000236402427853\n",
            "  1: [148], Fitness: -0.000227783946926\n",
            "  2: [39], Fitness: -0.000161497729948\n",
            "Time Elapsed: 383.03\n",
            "**ROC 파라미터 값:  [82]\n"
          ]
        },
        {
          "output_type": "stream",
          "name": "stderr",
          "text": [
            " 20%|██        | 1/5 [01:40<06:42, 100.64s/it]"
          ]
        },
        {
          "output_type": "stream",
          "name": "stdout",
          "text": [
            "\n",
            " HALL OF FAME:\n",
            "  0: [92, 0.053445120309413834, 0.07008480027019726], Fitness: 1.449623062e-06\n",
            "  1: [92, 1, 24], Fitness: 1.449623062e-06\n",
            "  2: [92, 0.05888362945089285, 0.07982092036505677], Fitness: 1.449623062e-06\n"
          ]
        },
        {
          "output_type": "stream",
          "name": "stderr",
          "text": [
            "\r 40%|████      | 2/5 [02:40<03:50, 76.87s/it] "
          ]
        },
        {
          "output_type": "stream",
          "name": "stdout",
          "text": [
            "\n",
            " HALL OF FAME:\n",
            "  0: [92, 0.053445120309413834, 0.07008480027019726], Fitness: 1.449623062e-06\n",
            "  1: [92, 1, 24], Fitness: 1.449623062e-06\n",
            "  2: [92, 0.05888362945089285, 0.07982092036505677], Fitness: 1.449623062e-06\n"
          ]
        },
        {
          "output_type": "stream",
          "name": "stderr",
          "text": [
            "\r 60%|██████    | 3/5 [03:56<02:32, 76.22s/it]"
          ]
        },
        {
          "output_type": "stream",
          "name": "stdout",
          "text": [
            "\n",
            " HALL OF FAME:\n",
            "  0: [92, 0.053445120309413834, 0.07008480027019726], Fitness: 1.449623062e-06\n",
            "  1: [92, 1, 24], Fitness: 1.449623062e-06\n",
            "  2: [92, 0.05888362945089285, 0.07982092036505677], Fitness: 1.449623062e-06\n"
          ]
        },
        {
          "output_type": "stream",
          "name": "stderr",
          "text": [
            "\r 80%|████████  | 4/5 [04:59<01:11, 71.19s/it]"
          ]
        },
        {
          "output_type": "stream",
          "name": "stdout",
          "text": [
            "\n",
            " HALL OF FAME:\n",
            "  0: [92, 0.053445120309413834, 0.07008480027019726], Fitness: 1.449623062e-06\n",
            "  1: [92, 1, 24], Fitness: 1.449623062e-06\n",
            "  2: [92, 0.05888362945089285, 0.07982092036505677], Fitness: 1.449623062e-06\n"
          ]
        },
        {
          "output_type": "stream",
          "name": "stderr",
          "text": [
            "100%|██████████| 5/5 [06:03<00:00, 72.63s/it]\n"
          ]
        },
        {
          "output_type": "stream",
          "name": "stdout",
          "text": [
            "\n",
            " HALL OF FAME:\n",
            "  0: [100, 79, 79], Fitness: 1.362293421e-06\n",
            "  1: [92, 0.053445120309413834, 0.07008480027019726], Fitness: 1.449623062e-06\n",
            "  2: [92, 1, 24], Fitness: 1.449623062e-06\n",
            "Time Elapsed: 363.18\n",
            "**MAP 파라미터 값:  [100, 79, 79]\n"
          ]
        },
        {
          "output_type": "stream",
          "name": "stderr",
          "text": [
            "  0%|          | 0/5 [00:21<?, ?it/s]\n"
          ]
        },
        {
          "output_type": "stream",
          "name": "stdout",
          "text": [
            "          TRD_DD             MKTCAP GDC_sig RSI_sig ROC_sig MAP_sig STC_sig\n",
            "0     2021/12/30  2,737,856,066,400       0       0       0       0       0\n",
            "1     2021/12/29  2,737,856,066,400       0       0       0       0       0\n",
            "2     2021/12/28  2,913,861,099,240       0       0       0       0       0\n",
            "3     2021/12/27  2,868,230,164,800       0       0       0       0       0\n",
            "4     2021/12/24  2,884,526,927,100       0       0       0       0       0\n",
            "...          ...                ...     ...     ...     ...     ...     ...\n",
            "2648  2011/04/05  3,103,747,378,950       0       0      -1       0       1\n",
            "2649  2011/04/04  3,152,092,353,700       0       0      -1       0       1\n",
            "2650  2011/04/01  3,152,092,353,700       0       0      -1       0       1\n",
            "2651  2011/03/31  3,074,740,394,100       0       0       1       0       0\n",
            "2652  2011/03/30  3,036,064,414,300       0       0       1       0       0\n",
            "\n",
            "[2653 rows x 7 columns]\n",
            "9\n",
            "KR7001460005\n"
          ]
        },
        {
          "output_type": "stream",
          "name": "stderr",
          "text": [
            "/usr/local/lib/python3.7/dist-packages/deap/creator.py:141: RuntimeWarning: A class named 'FitnessMin' has already been created and it will be overwritten. Consider deleting previous creation of that class or rename it.\n",
            "  RuntimeWarning)\n",
            "/usr/local/lib/python3.7/dist-packages/deap/creator.py:141: RuntimeWarning: A class named 'Individual' has already been created and it will be overwritten. Consider deleting previous creation of that class or rename it.\n",
            "  RuntimeWarning)\n",
            " 20%|██        | 1/5 [04:18<17:12, 258.03s/it]"
          ]
        },
        {
          "output_type": "stream",
          "name": "stdout",
          "text": [
            "\n",
            " HALL OF FAME:\n",
            "  0: [3, 193], Fitness: -1.7143028573e-05\n",
            "  1: [71, 13], Fitness: -3.979812402e-06\n",
            "  2: [8, 237], Fitness: -3.116614359e-06\n"
          ]
        },
        {
          "output_type": "stream",
          "name": "stderr",
          "text": [
            "\r 40%|████      | 2/5 [07:01<10:06, 202.21s/it]"
          ]
        },
        {
          "output_type": "stream",
          "name": "stdout",
          "text": [
            "\n",
            " HALL OF FAME:\n",
            "  0: [3, 193], Fitness: -1.7143028573e-05\n",
            "  1: [71, 13], Fitness: -3.979812402e-06\n",
            "  2: [8, 237], Fitness: -3.116614359e-06\n"
          ]
        },
        {
          "output_type": "stream",
          "name": "stderr",
          "text": [
            "\r 60%|██████    | 3/5 [09:42<06:06, 183.38s/it]"
          ]
        },
        {
          "output_type": "stream",
          "name": "stdout",
          "text": [
            "\n",
            " HALL OF FAME:\n",
            "  0: [3, 193], Fitness: -1.7143028573e-05\n",
            "  1: [71, 13], Fitness: -3.979812402e-06\n",
            "  2: [8, 237], Fitness: -3.116614359e-06\n"
          ]
        },
        {
          "output_type": "stream",
          "name": "stderr",
          "text": [
            "\r 80%|████████  | 4/5 [12:47<03:04, 184.07s/it]"
          ]
        },
        {
          "output_type": "stream",
          "name": "stdout",
          "text": [
            "\n",
            " HALL OF FAME:\n",
            "  0: [3, 193], Fitness: -1.7143028573e-05\n",
            "  1: [102, 29], Fitness: -1.6319336782e-05\n",
            "  2: [71, 13], Fitness: -3.979812402e-06\n"
          ]
        },
        {
          "output_type": "stream",
          "name": "stderr",
          "text": [
            "100%|██████████| 5/5 [15:25<00:00, 185.10s/it]\n"
          ]
        },
        {
          "output_type": "stream",
          "name": "stdout",
          "text": [
            "\n",
            " HALL OF FAME:\n",
            "  0: [3, 193], Fitness: -1.7143028573e-05\n",
            "  1: [102, 29], Fitness: -1.6319336782e-05\n",
            "  2: [71, 13], Fitness: -3.979812402e-06\n",
            "Time Elapsed: 925.50\n",
            "**GDC 파라미터 값:  [3, 193]\n",
            "\n",
            "\n"
          ]
        },
        {
          "output_type": "stream",
          "name": "stderr",
          "text": [
            " 20%|██        | 1/5 [03:58<15:53, 238.50s/it]"
          ]
        },
        {
          "output_type": "stream",
          "name": "stdout",
          "text": [
            "\n",
            " HALL OF FAME:\n",
            "  0: [18], Fitness: -0.000258481421648\n",
            "  1: [20], Fitness: -8.4334809192e-05\n",
            "  2: [6], Fitness: -3.3593684387e-05\n"
          ]
        },
        {
          "output_type": "stream",
          "name": "stderr",
          "text": [
            "\r 40%|████      | 2/5 [06:35<09:32, 190.77s/it]"
          ]
        },
        {
          "output_type": "stream",
          "name": "stdout",
          "text": [
            "\n",
            " HALL OF FAME:\n",
            "  0: [18], Fitness: -0.000258481421648\n",
            "  1: [20], Fitness: -8.4334809192e-05\n",
            "  2: [43], Fitness: -6.1025844445e-05\n"
          ]
        },
        {
          "output_type": "stream",
          "name": "stderr",
          "text": [
            "\r 60%|██████    | 3/5 [09:04<05:43, 171.75s/it]"
          ]
        },
        {
          "output_type": "stream",
          "name": "stdout",
          "text": [
            "\n",
            " HALL OF FAME:\n",
            "  0: [18], Fitness: -0.000258481421648\n",
            "  1: [20], Fitness: -8.4334809192e-05\n",
            "  2: [43], Fitness: -6.1025844445e-05\n"
          ]
        },
        {
          "output_type": "stream",
          "name": "stderr",
          "text": [
            "\r 80%|████████  | 4/5 [11:59<02:52, 172.79s/it]"
          ]
        },
        {
          "output_type": "stream",
          "name": "stdout",
          "text": [
            "\n",
            " HALL OF FAME:\n",
            "  0: [18], Fitness: -0.000258481421648\n",
            "  1: [20], Fitness: -8.4334809192e-05\n",
            "  2: [43], Fitness: -6.1025844445e-05\n"
          ]
        },
        {
          "output_type": "stream",
          "name": "stderr",
          "text": [
            "100%|██████████| 5/5 [14:57<00:00, 179.50s/it]\n"
          ]
        },
        {
          "output_type": "stream",
          "name": "stdout",
          "text": [
            "\n",
            " HALL OF FAME:\n",
            "  0: [18], Fitness: -0.000258481421648\n",
            "  1: [20], Fitness: -8.4334809192e-05\n",
            "  2: [43], Fitness: -6.1025844445e-05\n",
            "Time Elapsed: 897.51\n",
            "RSI 파라미터 값:  [18]\n",
            "\n",
            "\n"
          ]
        },
        {
          "output_type": "stream",
          "name": "stderr",
          "text": [
            " 20%|██        | 1/5 [04:24<17:38, 264.74s/it]"
          ]
        },
        {
          "output_type": "stream",
          "name": "stdout",
          "text": [
            "\n",
            " HALL OF FAME:\n",
            "  0: [55], Fitness: -0.000395569620253\n",
            "  1: [77], Fitness: -5.1264962961e-05\n",
            "  2: [64], Fitness: -1.4723447642e-05\n"
          ]
        },
        {
          "output_type": "stream",
          "name": "stderr",
          "text": [
            "\r 40%|████      | 2/5 [07:16<10:30, 210.30s/it]"
          ]
        },
        {
          "output_type": "stream",
          "name": "stdout",
          "text": [
            "\n",
            " HALL OF FAME:\n",
            "  0: [55], Fitness: -0.000395569620253\n",
            "  1: [77], Fitness: -5.1264962961e-05\n",
            "  2: [64], Fitness: -1.4723447642e-05\n"
          ]
        },
        {
          "output_type": "stream",
          "name": "stderr",
          "text": [
            "\r 60%|██████    | 3/5 [09:57<06:15, 187.75s/it]"
          ]
        },
        {
          "output_type": "stream",
          "name": "stdout",
          "text": [
            "\n",
            " HALL OF FAME:\n",
            "  0: [55], Fitness: -0.000395569620253\n",
            "  1: [77], Fitness: -5.1264962961e-05\n",
            "  2: [64], Fitness: -1.4723447642e-05\n"
          ]
        },
        {
          "output_type": "stream",
          "name": "stderr",
          "text": [
            "\r 80%|████████  | 4/5 [13:05<03:07, 187.80s/it]"
          ]
        },
        {
          "output_type": "stream",
          "name": "stdout",
          "text": [
            "\n",
            " HALL OF FAME:\n",
            "  0: [22], Fitness: -0.000568181818182\n",
            "  1: [55], Fitness: -0.000395569620253\n",
            "  2: [77], Fitness: -5.1264962961e-05\n"
          ]
        },
        {
          "output_type": "stream",
          "name": "stderr",
          "text": [
            "100%|██████████| 5/5 [16:14<00:00, 194.83s/it]\n"
          ]
        },
        {
          "output_type": "stream",
          "name": "stdout",
          "text": [
            "\n",
            " HALL OF FAME:\n",
            "  0: [22], Fitness: -0.000568181818182\n",
            "  1: [55], Fitness: -0.000395569620253\n",
            "  2: [77], Fitness: -5.1264962961e-05\n",
            "Time Elapsed: 974.18\n",
            "**ROC 파라미터 값:  [22]\n"
          ]
        },
        {
          "output_type": "stream",
          "name": "stderr",
          "text": [
            " 20%|██        | 1/5 [04:15<17:03, 255.78s/it]"
          ]
        },
        {
          "output_type": "stream",
          "name": "stdout",
          "text": [
            "\n",
            " HALL OF FAME:\n",
            "  0: [16, 0.051767602445181735, 0.07458130114127234], Fitness: 2.17202433e-07\n",
            "  1: [16, 0.08240767516032874, 0.0518030724034144], Fitness: 2.17202433e-07\n",
            "  2: [17, 0.06240066781640372, 0.05890151371172764], Fitness: 2.17202433e-07\n"
          ]
        },
        {
          "output_type": "stream",
          "name": "stderr",
          "text": [
            "\r 40%|████      | 2/5 [06:49<09:47, 195.87s/it]"
          ]
        },
        {
          "output_type": "stream",
          "name": "stdout",
          "text": [
            "\n",
            " HALL OF FAME:\n",
            "  0: [16, 0.051767602445181735, 0.07458130114127234], Fitness: 2.17202433e-07\n",
            "  1: [16, 0.08240767516032874, 0.0518030724034144], Fitness: 2.17202433e-07\n",
            "  2: [17, 0.06240066781640372, 0.05890151371172764], Fitness: 2.17202433e-07\n"
          ]
        },
        {
          "output_type": "stream",
          "name": "stderr",
          "text": [
            "\r 60%|██████    | 3/5 [10:01<06:28, 194.18s/it]"
          ]
        },
        {
          "output_type": "stream",
          "name": "stdout",
          "text": [
            "\n",
            " HALL OF FAME:\n",
            "  0: [16, 0.051767602445181735, 0.07458130114127234], Fitness: 2.17202433e-07\n",
            "  1: [16, 0.08240767516032874, 0.0518030724034144], Fitness: 2.17202433e-07\n",
            "  2: [17, 0.06240066781640372, 0.05890151371172764], Fitness: 2.17202433e-07\n"
          ]
        },
        {
          "output_type": "stream",
          "name": "stderr",
          "text": [
            "\r 80%|████████  | 4/5 [12:43<03:01, 181.24s/it]"
          ]
        },
        {
          "output_type": "stream",
          "name": "stdout",
          "text": [
            "\n",
            " HALL OF FAME:\n",
            "  0: [16, 0.051767602445181735, 0.07458130114127234], Fitness: 2.17202433e-07\n",
            "  1: [16, 0.08240767516032874, 0.0518030724034144], Fitness: 2.17202433e-07\n",
            "  2: [17, 0.06240066781640372, 0.05890151371172764], Fitness: 2.17202433e-07\n"
          ]
        },
        {
          "output_type": "stream",
          "name": "stderr",
          "text": [
            "100%|██████████| 5/5 [15:24<00:00, 184.90s/it]\n"
          ]
        },
        {
          "output_type": "stream",
          "name": "stdout",
          "text": [
            "\n",
            " HALL OF FAME:\n",
            "  0: [16, 0.051767602445181735, 0.07458130114127234], Fitness: 2.17202433e-07\n",
            "  1: [16, 0.08240767516032874, 0.0518030724034144], Fitness: 2.17202433e-07\n",
            "  2: [17, 0.06240066781640372, 0.05890151371172764], Fitness: 2.17202433e-07\n",
            "Time Elapsed: 924.51\n",
            "**MAP 파라미터 값:  [16, 0.051767602445181735, 0.07458130114127234]\n"
          ]
        },
        {
          "output_type": "stream",
          "name": "stderr",
          "text": [
            "  0%|          | 0/5 [00:03<?, ?it/s]\n"
          ]
        },
        {
          "output_type": "stream",
          "name": "stdout",
          "text": [
            "          TRD_DD           MKTCAP GDC_sig RSI_sig ROC_sig MAP_sig STC_sig\n",
            "0     2021/12/30  281,389,057,500       0       0       0       0       0\n",
            "1     2021/12/29  288,572,130,000       0       0       0       0       0\n",
            "2     2021/12/28  282,325,980,000       0       0       0       0       0\n",
            "3     2021/12/27  285,449,055,000       0       0       0       0       0\n",
            "4     2021/12/24  293,569,050,000       0       0       0       0       0\n",
            "...          ...              ...     ...     ...     ...     ...     ...\n",
            "6750  1995/05/08   81,199,950,000       0       0      -1       0       1\n",
            "6751  1995/05/06   81,199,950,000       0       0      -1       0       0\n",
            "6752  1995/05/04   84,323,025,000       0       0      -1       1       0\n",
            "6753  1995/05/03   84,323,025,000       0       0      -1       1       0\n",
            "6754  1995/05/02   84,947,640,000       0       0      -1       1       1\n",
            "\n",
            "[6755 rows x 7 columns]\n"
          ]
        }
      ]
    },
    {
      "cell_type": "code",
      "source": [
        "# json 파일 합치는 방법\n",
        "# https://great-woman-hoseung.tistory.com/6"
      ],
      "metadata": {
        "id": "gjMBDiiZ1FnA"
      },
      "execution_count": null,
      "outputs": []
    },
    {
      "cell_type": "code",
      "source": [
        ""
      ],
      "metadata": {
        "id": "YyfO9Zv7ALLu"
      },
      "execution_count": null,
      "outputs": []
    }
  ]
}